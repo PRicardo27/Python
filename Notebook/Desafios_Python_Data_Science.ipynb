{
 "cells": [
  {
   "cell_type": "markdown",
   "metadata": {
    "id": "_kwAaQ36gLQ1"
   },
   "source": [
    "# Sobre o notebook\n",
    "\n",
    "A \"hora da prática\" é uma atividade do curso de Python para Data Science da Alura que contém diversos desafios envolvendo os aprendizados de cada aula.\n",
    "\n",
    "O notebook \"hora da prática\" é um notebook construído com espaço para as células dos desafios propostos no curso, com ele você tem espaço para construir e executar suas soluções"
   ]
  },
  {
   "cell_type": "markdown",
   "metadata": {
    "id": "Mc-KN0dA0Z83"
   },
   "source": [
    "## Aula 1 - Bibliotecas"
   ]
  },
  {
   "cell_type": "markdown",
   "metadata": {
    "id": "Dq02fNPCl_JV"
   },
   "source": [
    "### Aquecimento"
   ]
  },
  {
   "cell_type": "markdown",
   "metadata": {
    "id": "l5eLWf0W0ikn"
   },
   "source": [
    "#### Questão 1\n",
    "\n",
    "Escreva um código para instalar a versão `3.7.1` da biblioteca `matplotlib`"
   ]
  },
  {
   "cell_type": "code",
   "execution_count": 5,
   "metadata": {
    "id": "m4b6NquSaj3q"
   },
   "outputs": [
    {
     "name": "stdout",
     "output_type": "stream",
     "text": [
      "\u001b[33mWARNING: Ignoring invalid distribution -umpy (/home/paulo/Documentos/Python/.venv/lib/python3.10/site-packages)\u001b[0m\u001b[33m\n",
      "\u001b[0m\u001b[33mWARNING: Ignoring invalid distribution -umpy (/home/paulo/Documentos/Python/.venv/lib/python3.10/site-packages)\u001b[0m\u001b[33m\n",
      "\u001b[0mRequirement already satisfied: matplotlib==3.7.1 in /home/paulo/Documentos/Python/.venv/lib/python3.10/site-packages (3.7.1)\n",
      "Requirement already satisfied: pillow>=6.2.0 in /home/paulo/Documentos/Python/.venv/lib/python3.10/site-packages (from matplotlib==3.7.1) (11.2.1)\n",
      "Requirement already satisfied: contourpy>=1.0.1 in /home/paulo/Documentos/Python/.venv/lib/python3.10/site-packages (from matplotlib==3.7.1) (1.3.2)\n",
      "Requirement already satisfied: cycler>=0.10 in /home/paulo/Documentos/Python/.venv/lib/python3.10/site-packages (from matplotlib==3.7.1) (0.12.1)\n",
      "Requirement already satisfied: packaging>=20.0 in /home/paulo/Documentos/Python/.venv/lib/python3.10/site-packages (from matplotlib==3.7.1) (25.0)\n",
      "Requirement already satisfied: kiwisolver>=1.0.1 in /home/paulo/Documentos/Python/.venv/lib/python3.10/site-packages (from matplotlib==3.7.1) (1.4.8)\n",
      "Requirement already satisfied: pyparsing>=2.3.1 in /home/paulo/Documentos/Python/.venv/lib/python3.10/site-packages (from matplotlib==3.7.1) (3.2.3)\n",
      "Requirement already satisfied: numpy>=1.20 in /home/paulo/Documentos/Python/.venv/lib/python3.10/site-packages (from matplotlib==3.7.1) (1.23.5)\n",
      "Requirement already satisfied: python-dateutil>=2.7 in /home/paulo/Documentos/Python/.venv/lib/python3.10/site-packages (from matplotlib==3.7.1) (2.9.0.post0)\n",
      "Requirement already satisfied: fonttools>=4.22.0 in /home/paulo/Documentos/Python/.venv/lib/python3.10/site-packages (from matplotlib==3.7.1) (4.58.4)\n",
      "Requirement already satisfied: six>=1.5 in /home/paulo/Documentos/Python/.venv/lib/python3.10/site-packages (from python-dateutil>=2.7->matplotlib==3.7.1) (1.17.0)\n",
      "\u001b[33mWARNING: Ignoring invalid distribution -umpy (/home/paulo/Documentos/Python/.venv/lib/python3.10/site-packages)\u001b[0m\u001b[33m\n",
      "\u001b[0mNote: you may need to restart the kernel to use updated packages.\n"
     ]
    }
   ],
   "source": [
    "%pip install matplotlib==3.7.1"
   ]
  },
  {
   "cell_type": "markdown",
   "metadata": {
    "id": "tQdX90Ue03c7"
   },
   "source": [
    "#### Questão 2\n",
    "\n",
    "Escreva um código para importar a biblioteca `numpy` com o alias `np`"
   ]
  },
  {
   "cell_type": "code",
   "execution_count": 6,
   "metadata": {
    "id": "Gh8aZUwaakuT"
   },
   "outputs": [],
   "source": [
    "import numpy as np"
   ]
  },
  {
   "cell_type": "markdown",
   "metadata": {
    "id": "gfg-aiip03vC"
   },
   "source": [
    "#### Questão 3\n",
    "Crie um programa que lê a seguinte lista de números e escolha um número desta aleatoriamente.\n",
    "```\n",
    "lista = [8, 12, 54, 23, 43, 1, 90, 87, 105, 77]\n",
    "```"
   ]
  },
  {
   "cell_type": "code",
   "execution_count": 11,
   "metadata": {
    "id": "Sla71KJQalws"
   },
   "outputs": [
    {
     "data": {
      "text/plain": [
       "8"
      ]
     },
     "execution_count": 11,
     "metadata": {},
     "output_type": "execute_result"
    }
   ],
   "source": [
    "from random import choice\n",
    "\n",
    "lista = [8, 12, 54, 23, 43, 1, 90, 87, 105, 77]\n",
    "\n",
    "choice(lista)"
   ]
  },
  {
   "cell_type": "markdown",
   "metadata": {
    "id": "oadrJbl704MM"
   },
   "source": [
    "#### Questão 4\n",
    "\n",
    "Crie um programa que sorteia aleatoriamente um número inteiro menor que 100. \n",
    "> Dica: use a função [`randrange()`](https://docs.python.org/3/library/random.html#random.randrange) da biblioteca `random`. Essa função recebe como parâmetro o valor limite para a escolha aleatória ou um intervalo se passado o limite mínimo e máximo. Por exemplo, `randrange(5)` gera valores inteiros menores que 5. \n"
   ]
  },
  {
   "cell_type": "code",
   "execution_count": 12,
   "metadata": {
    "id": "UZSpqpOuanFT"
   },
   "outputs": [
    {
     "data": {
      "text/plain": [
       "26"
      ]
     },
     "execution_count": 12,
     "metadata": {},
     "output_type": "execute_result"
    }
   ],
   "source": [
    "from random import randrange\n",
    "\n",
    "randrange(100)"
   ]
  },
  {
   "cell_type": "markdown",
   "metadata": {
    "id": "3RgyMaan04TD"
   },
   "source": [
    "#### Questão 5\n",
    "Crie um programa que solicite à pessoa usuária digitar dois números inteiros e calcular a potência do 1º número elevado ao 2º. \n",
    "> Dica: use a função [`pow()`](https://docs.python.org/3/library/random.html#random.randrange) da biblioteca `math` \n"
   ]
  },
  {
   "cell_type": "code",
   "execution_count": null,
   "metadata": {
    "id": "UOzl8la0aoBd"
   },
   "outputs": [
    {
     "data": {
      "text/plain": [
       "3025.0"
      ]
     },
     "execution_count": 13,
     "metadata": {},
     "output_type": "execute_result"
    }
   ],
   "source": [
    "from math import pow\n",
    "\n",
    "num1,num2 = int(input('Digite o número base da potênciação: ')), int(input('Digite o número expoente da potênciação: '))\n",
    "\n",
    "pow(num1,num2)"
   ]
  },
  {
   "cell_type": "markdown",
   "metadata": {
    "id": "ieCkWjvEmJU0"
   },
   "source": [
    "### Aplicando a projetos"
   ]
  },
  {
   "cell_type": "markdown",
   "metadata": {
    "id": "0rS4QHP1mXQE"
   },
   "source": [
    "#### Questão 6\n",
    "Um programa deve ser escrito para sortear uma pessoa seguidora de uma rede social para ganhar um prêmio. A lista de participantes é numerada e devemos escolher aleatoriamente um número de acordo com a quantidade de participantes.\n",
    "\n",
    "Peça à pessoa usuária para fornecer o número de participantes do sorteio e devolva para ela o número sorteado."
   ]
  },
  {
   "cell_type": "code",
   "execution_count": null,
   "metadata": {
    "id": "G4k5jUdAao8t"
   },
   "outputs": [
    {
     "name": "stdout",
     "output_type": "stream",
     "text": [
      "Entre os 5230 participantes, o número sorteado foi 1888\n"
     ]
    }
   ],
   "source": [
    "from random import randint\n",
    "\n",
    "participantes = int(input('Digite a quantidade de participantes: '))\n",
    "\n",
    "sorteado = randint(1,participantes)\n",
    "\n",
    "print(f'\\nEntre os {participantes} participantes, o número sorteado foi {sorteado}')\n"
   ]
  },
  {
   "cell_type": "markdown",
   "metadata": {
    "id": "9D6cd4tomhSi"
   },
   "source": [
    "#### Questão 7\n",
    "\n",
    "Você recebeu uma demanda para gerar números de token para o acesso ao aplicativo de uma empresa. O token precisa ser par e variar de 1000 até 9998. Escreva um código que solicita à pessoa usuária o seu nome e gera uma mensagem junto a esse token gerado aleatoriamente:\n",
    "\n",
    "`\"Olá, [nome], o seu token de acesso é [token]! Seja bem-vindo(a)!\"`"
   ]
  },
  {
   "cell_type": "code",
   "execution_count": 19,
   "metadata": {
    "id": "Y4ACJ4rEaqQW"
   },
   "outputs": [
    {
     "name": "stdout",
     "output_type": "stream",
     "text": [
      "Olá, Paulo, o seu token de acesso é 1512! Seja bem-vindo(a)!\n"
     ]
    }
   ],
   "source": [
    "from random import randrange\n",
    "\n",
    "nome = input('Para gerar o token, digite seu nome: ')\n",
    "\n",
    "token = randrange(1000,9999,2)\n",
    "\n",
    "print(f'Olá, {nome}, o seu token de acesso é {token}! Seja bem-vindo(a)!')"
   ]
  },
  {
   "cell_type": "markdown",
   "metadata": {
    "id": "FHJHH_WemhFJ"
   },
   "source": [
    "#### Questão 8\n",
    "Para diversificar e atrair novos clientes, uma lanchonete criou um item misterioso em seu cardápio chamado \"salada de frutas surpresa\". Neste item, são escolhidas aleatoriamente 3 frutas de uma lista de 12 frutas para compor a salada de frutas da pessoa cliente.\n",
    "\n",
    "Crie o código que faça essa seleção aleatória de acordo com a lista abaixo:\n",
    "\n",
    "```\n",
    "frutas = [\"maçã\", \"banana\", \"uva\", \"pêra\", \n",
    "          \"manga\", \"coco\", \"melancia\", \"mamão\",\n",
    "          \"laranja\", \"abacaxi\", \"kiwi\", \"ameixa\"]\n",
    "```"
   ]
  },
  {
   "cell_type": "code",
   "execution_count": 23,
   "metadata": {
    "id": "gR0BNVGoarOv"
   },
   "outputs": [
    {
     "name": "stdout",
     "output_type": "stream",
     "text": [
      "Olá, a sua salada de frutas surpresa terá: manga, pêra e kiwi\n"
     ]
    }
   ],
   "source": [
    "from random import sample\n",
    "\n",
    "frutas = [\"maçã\", \"banana\", \"uva\", \"pêra\", \n",
    "          \"manga\", \"coco\", \"melancia\", \"mamão\",\n",
    "          \"laranja\", \"abacaxi\", \"kiwi\", \"ameixa\"]\n",
    "\n",
    "salada = sample(frutas,3)\n",
    "\n",
    "print(f'Olá, a sua salada de frutas surpresa terá: {salada[0]}, {salada[1]} e {salada[2]}')"
   ]
  },
  {
   "cell_type": "markdown",
   "metadata": {
    "id": "m_voDwY9mhNJ"
   },
   "source": [
    "#### Questão 9\n",
    "Você recebeu um desafio de calcular a raiz quadrada de uma lista de números, identificando quais resultaram em um número inteiro. A lista é a seguinte:\n",
    "```\n",
    "numeros = [2, 8, 15, 23, 91, 112, 256]\n",
    "```\n",
    "\n",
    "Informe no final quais números possuem raízes inteiras e seus respectivos valores.\n",
    "\n",
    "> Dica: use a comparação entre a divisão inteira da raiz por 1 com o valor da raiz para verificar se o número é inteiro. Por exemplo:\n",
    "```\n",
    "num = 1.5\n",
    "num_2 = 2\n",
    "print(f'{num} é inteiro? :', num // 1 == num)\n",
    "print(f'{num_2} é inteiro? :', num_2 // 1 == num_2)\n",
    "```\n",
    "Saída:\n",
    "```\n",
    "1.5 é inteiro? : False\n",
    "2 é inteiro? : True\n",
    "```"
   ]
  },
  {
   "cell_type": "code",
   "execution_count": 27,
   "metadata": {
    "id": "80eu9G8HaswW"
   },
   "outputs": [
    {
     "name": "stdout",
     "output_type": "stream",
     "text": [
      "A raiz quadrada de 256 é o número inteiro 16\n"
     ]
    }
   ],
   "source": [
    "from math import sqrt\n",
    "\n",
    "numeros = [2, 8, 15, 23, 91, 112, 256]\n",
    "\n",
    "for num in numeros:\n",
    "    result = sqrt(num)\n",
    "    if result % 1 == 0:\n",
    "        print(f'A raiz quadrada de {num} é o número inteiro {result:.0f}')"
   ]
  },
  {
   "cell_type": "markdown",
   "metadata": {
    "id": "dBl0iKd7mhYA"
   },
   "source": [
    "#### Questão 10\n",
    "Faça um programa para uma loja que vende grama para jardins. Essa loja trabalha com jardins circulares e o preço do metro quadrado da grama é de R$ 25,00. Peça à pessoa usuária o raio da área circular e devolva o valor em reais do quanto precisará pagar.  \n",
    "\n",
    "> Dica: use a variável [`pi`](https://docs.python.org/pt-br/3/library/math.html#math.pi) e o método [`pow()`](https://docs.python.org/3/library/random.html#random.randrange) da biblioteca `math`. O cálculo de área de um círculo é de: $Area = \\pi \\times r^2$"
   ]
  },
  {
   "cell_type": "code",
   "execution_count": null,
   "metadata": {
    "id": "VK0RHwYIattI"
   },
   "outputs": [
    {
     "name": "stdout",
     "output_type": "stream",
     "text": [
      "Para os 10.752m² selecionados o valor a pagar é de R$268.8\n"
     ]
    }
   ],
   "source": [
    "from math import pi,pow\n",
    "\n",
    "preco = 25.00\n",
    "\n",
    "r = float(input('Digite o raio da área da grama comprada em metros: '))\n",
    "\n",
    "area = pi * pow(r,2)\n",
    "valor = area*preco\n",
    "\n",
    "print(f'Para os {area:.3f}m² selecionados o valor a pagar é de R${valor:.2f}')"
   ]
  },
  {
   "cell_type": "markdown",
   "metadata": {
    "id": "D9e3FqhO1S3X"
   },
   "source": [
    "## Aula 2 - Funções"
   ]
  },
  {
   "cell_type": "markdown",
   "metadata": {
    "id": "DTBxjtxXa1dz"
   },
   "source": [
    "### Aquecimento"
   ]
  },
  {
   "cell_type": "markdown",
   "metadata": {
    "id": "dedVZJ3fa1dz"
   },
   "source": [
    "#### Questão 1\n",
    "\n",
    "Escreva um código que lê a lista abaixo e faça:\n",
    "\n",
    "```\n",
    "lista = [16, 14, 63, 65, 17, 99, 70, 11, 20, 48, 79, 32, 17, 89, 12, 25, 66]\n",
    "```\n",
    "\n",
    "- A leitura do tamanho da lista\n",
    "- A leitura do maior e menor valor\n",
    "- A soma dos valores da lista\n",
    "\n",
    "Ao final exiba uma mensagem dizendo:\n",
    "\n",
    "```\n",
    "\"A lista possui [tam] números em que o maior número é [maior] e o menor número é [menor]. A soma dos valores presentes nela é igual a [soma]\"\n",
    "```\n",
    "\n",
    "> Dica: use as funções embutidas presentes na [documentação do Python](https://docs.python.org/3/library/functions.html)\n"
   ]
  },
  {
   "cell_type": "code",
   "execution_count": 33,
   "metadata": {
    "id": "KrGD5Nl5a1dz"
   },
   "outputs": [
    {
     "name": "stdout",
     "output_type": "stream",
     "text": [
      "A lista possui 17 números em que o maior número é 99 e o menor número é 11. A soma dos valores presentes nela é igual a 743\n"
     ]
    }
   ],
   "source": [
    "lista = [16, 14, 63, 65, 17, 99, 70, 11, 20, 48, 79, 32, 17, 89, 12, 25, 66]\n",
    "\n",
    "tamanho = len(lista)\n",
    "maior = max(lista)\n",
    "menor = min(lista)\n",
    "soma = sum(lista)\n",
    "\n",
    "print(f'A lista possui {tamanho} números em que o maior número é {maior} e o menor número é {menor}. A soma dos valores presentes nela é igual a {soma}')"
   ]
  },
  {
   "cell_type": "markdown",
   "metadata": {
    "id": "435rt7sha1dz"
   },
   "source": [
    "#### Questão 2\n",
    "\n",
    "Escreva uma função que gere a tabuada de um número inteiro de 1 a 10, de acordo com a escolha da pessoa usuária. Como exemplo, para o número 7, a tabuada deve ser mostrada no seguinte formato:\n",
    "```\n",
    "Tabuada do 7:\n",
    "7 x 0 = 0\n",
    "7 x 1 = 7\n",
    "[...]\n",
    "7 x 10 = 70\n",
    "```\n"
   ]
  },
  {
   "cell_type": "code",
   "execution_count": 42,
   "metadata": {
    "id": "DxHuhb19a1d0"
   },
   "outputs": [
    {
     "name": "stdout",
     "output_type": "stream",
     "text": [
      "Tabuada do 5:\n",
      "5 x 0 = 0\n",
      "5 x 1 = 5\n",
      "5 x 2 = 10\n",
      "5 x 3 = 15\n",
      "5 x 4 = 20\n",
      "5 x 5 = 25\n",
      "5 x 6 = 30\n",
      "5 x 7 = 35\n",
      "5 x 8 = 40\n",
      "5 x 9 = 45\n",
      "5 x 10 = 50\n"
     ]
    }
   ],
   "source": [
    "def tabuada(x: int=1):\n",
    "    ''' Função para gerar uma tabuada de 0 a 10 do número inteiro informado\n",
    "    '''\n",
    "    print(f'Tabuada do {x}:')\n",
    "    for y in range(0,11):\n",
    "        print(f'{x} x {y} = {x*y}')\n",
    "\n",
    "num = int(input('Digite o número da tabuada solicitada: '))\n",
    "\n",
    "tabuada(num)"
   ]
  },
  {
   "cell_type": "markdown",
   "metadata": {
    "id": "OwoNphMPa1d0"
   },
   "source": [
    "#### Questão 3\n",
    "Crie a função que leia a lista abaixo e retorne uma nova lista com os múltiplos de 3:\n",
    "\n",
    "```\n",
    "[97, 80, 94, 88, 80, 1, 16, 53, 62, 32, 24, 99]\n",
    "```\n",
    "\n",
    "Utilize o `return` na função e salve a nova lista na variável `mult_3`."
   ]
  },
  {
   "cell_type": "code",
   "execution_count": null,
   "metadata": {
    "id": "kYrKxhd8a1d0"
   },
   "outputs": [
    {
     "name": "stdout",
     "output_type": "stream",
     "text": [
      "Os múltiplos de 3 na lista informada: [24, 99]\n"
     ]
    }
   ],
   "source": [
    "def mult3(a: list=0) -> list:\n",
    "    '''Informa quais números são múltiplos de 3 em uma lista'''\n",
    "\n",
    "    mult_3  = [x for x in a if x % 3 == 0]\n",
    "\n",
    "    return mult_3\n",
    "\n",
    "lista = [97, 80, 94, 88, 80, 1, 16, 53, 62, 32, 24, 99]\n",
    "\n",
    "mult_3 = mult3(lista)\n",
    "\n",
    "print(f'Os múltiplos de 3 na lista informada: {mult_3}')"
   ]
  },
  {
   "cell_type": "code",
   "execution_count": 60,
   "metadata": {},
   "outputs": [
    {
     "data": {
      "text/plain": [
       "[0, 2, 4, 8]"
      ]
     },
     "execution_count": 60,
     "metadata": {},
     "output_type": "execute_result"
    }
   ],
   "source": [
    "example_map = map(lambda x: x*2, filter(lambda x: x*2/6. != 1, range(5)))\n",
    "\n",
    "example_map = list(example_map)\n",
    "\n",
    "example_map\n"
   ]
  },
  {
   "cell_type": "code",
   "execution_count": 76,
   "metadata": {},
   "outputs": [
    {
     "name": "stdout",
     "output_type": "stream",
     "text": [
      "Os múltiplos de 3 na lista informada: [24, 99]\n"
     ]
    }
   ],
   "source": [
    "# mult3 = lambda x: x if x % 3 == 0 else None\n",
    "\n",
    "lista = [97, 80, 94, 88, 80, 1, 16, 53, 62, 32, 24, 99]\n",
    "\n",
    "mult_3 = list(filter(lambda x: x != None,map(lambda x: x if x % 3 == 0 else None,lista)))\n",
    "# mult_3 = list(map(mult3, filter(lambda x: x % 3 == 0,lista)))\n",
    "# mult_3 = list(filter(None,map(mult3,lista)))\n",
    "\n",
    "\n",
    "print(f'Os múltiplos de 3 na lista informada: {mult_3}')\n"
   ]
  },
  {
   "cell_type": "markdown",
   "metadata": {
    "id": "kFkuo_SUa1d0"
   },
   "source": [
    "#### Questão 4\n",
    "Crie uma lista dos quadrados dos números da seguinte lista `[1, 2, 3, 4, 5, 6, 7, 8, 9, 10]`.\n",
    "\n",
    "Lembre-se de utilizar as funções `lambda` e `map()` para calcular o quadrado de cada elemento da lista.\n"
   ]
  },
  {
   "cell_type": "code",
   "execution_count": 86,
   "metadata": {
    "id": "Iav68EpKa1d0"
   },
   "outputs": [
    {
     "name": "stdout",
     "output_type": "stream",
     "text": [
      "Quadrados da lista informada:\n",
      "[1.0, 4.0, 9.0, 16.0, 25.0, 36.0, 49.0, 64.0, 81.0, 100.0]\n"
     ]
    }
   ],
   "source": [
    "from math import pow\n",
    "lista = [1, 2, 3, 4, 5, 6, 7, 8, 9, 10]\n",
    "\n",
    "quad = list(map(lambda x: pow(x,2),lista))\n",
    "\n",
    "print(f'Quadrados da lista informada:\\n{quad}')"
   ]
  },
  {
   "cell_type": "markdown",
   "metadata": {
    "id": "PX7G0Qgha1d0"
   },
   "source": [
    "### Aplicando a projetos"
   ]
  },
  {
   "cell_type": "markdown",
   "metadata": {
    "id": "oVWgrilxa1d0"
   },
   "source": [
    "#### Questão 5\n",
    "\n",
    "Você foi contratado(a) como cientista de dados de uma associação de skate. Para analisar as notas recebidas dos(as) skatistas em algumas competições ao longo do ano, você precisa criar um código que calcula a pontuação dos(as) atletas. Para isso, o seu código deve receber 5 notas digitadas pelas pessoas juradas.\n",
    "\n",
    "Para calcular a pontuação de um(a) skatista, você precisa eliminar a maior e a menor pontuação dentre as 5 notas e tirar a média das 3 notas que sobraram.\n",
    "\n",
    "Retorne a média para apresentar o texto:\n",
    "`\"Nota da manobra: [media]\"`\n",
    "\n"
   ]
  },
  {
   "cell_type": "code",
   "execution_count": 116,
   "metadata": {},
   "outputs": [
    {
     "data": {
      "text/plain": [
       "[2.5, 3, 4.8, 9.0]"
      ]
     },
     "execution_count": 116,
     "metadata": {},
     "output_type": "execute_result"
    }
   ],
   "source": [
    "lista = [2.5,3,4.8,9.0]\n",
    "\n",
    "lista.sort()\n",
    "\n",
    "lista"
   ]
  },
  {
   "cell_type": "code",
   "execution_count": 121,
   "metadata": {
    "id": "1nbQ-hIRa1d0"
   },
   "outputs": [
    {
     "name": "stdout",
     "output_type": "stream",
     "text": [
      "Nota da manobra: 7.0\n"
     ]
    }
   ],
   "source": [
    "def media_truncada(lista: list) -> float:\n",
    "    '''Define a media da lista informada, retirando o maior e o menor número da lista'''\n",
    "\n",
    "    lista.sort()\n",
    "    lista.pop(0)\n",
    "    lista.pop(-1)  \n",
    "\n",
    "    average = sum(lista)/len(lista)\n",
    "\n",
    "    return average\n",
    "\n",
    "notas = []\n",
    "for i in range(1,6):\n",
    "    notas.append(float(input(f'Digite a {i}ª nota da manobra: ')))\n",
    "\n",
    "media = media_truncada(notas)\n",
    "\n",
    "print(f'Nota da manobra: {media}')"
   ]
  },
  {
   "cell_type": "markdown",
   "metadata": {
    "id": "p3MnWjnda1d0"
   },
   "source": [
    "#### Questão 6\n",
    "\n",
    "Para atender a uma demanda de uma instituição de ensino para a análise do desempenho de seus(suas) estudantes, você precisa criar uma função que receba uma lista de 4 notas e retorne:\n",
    "- maior nota\n",
    "- menor nota\n",
    "- média\n",
    "- situação (Aprovado(a) ou Reprovado(a))\n",
    "\n",
    "Para testar o comportamento da função, os dados podem ser exibidos em um texto:\n",
    "```\n",
    "\"O(a) estudante obteve uma media de [media], com a sua maior nota de [maior] pontos e a menor nota de [menor] pontos e foi [situacao]\"\n",
    "```"
   ]
  },
  {
   "cell_type": "code",
   "execution_count": 136,
   "metadata": {
    "id": "5Bx-K65ya1d0"
   },
   "outputs": [
    {
     "name": "stdout",
     "output_type": "stream",
     "text": [
      "O(a) estudante obteve uma media de 7.5, com a sua maior nota de 10.0 pontos e a menor nota de 3.8 pontos e foi aprovado\n"
     ]
    }
   ],
   "source": [
    "def media_aritimetica(lista: list, criterio: float=6) -> tuple:\n",
    "    '''Calcula a media de uma lista, extrai o maior e o menor valor dela e a situação de acordo o criterio definido\n",
    "\n",
    "    return media,maior,menor,situacao\n",
    "    \n",
    "    Valor padrão para o criterio é 6'''\n",
    "\n",
    "    maior = round(max(lista),1)\n",
    "    menor = round(min(lista),1)\n",
    "    media = round(sum(lista)/len(lista),1)\n",
    "    situacao = 'aprovado' if media >= criterio else 'reprovado'\n",
    "\n",
    "    return media,maior,menor,situacao\n",
    "\n",
    "notas = []\n",
    "for i in range(1,5):\n",
    "    notas.append(float(input(f'Digite a {i}ª nota do estudante: ')))\n",
    "\n",
    "\n",
    "media_aluno,maior_nota,menor_nota,situacao_aluno = media_aritimetica(notas,6)\n",
    "\n",
    "print(f'O(a) estudante obteve uma media de {media_aluno}, com a sua maior nota de {maior_nota} pontos e a menor nota de {menor_nota} pontos e foi {situacao_aluno}')\n"
   ]
  },
  {
   "cell_type": "markdown",
   "metadata": {
    "id": "_sPZj_x9a1d0"
   },
   "source": [
    "#### Questão 7\n",
    "\n",
    "Você recebeu uma demanda para tratar 2 listas com os nomes e sobrenomes de cada estudante concatenando-as para apresentar seus nomes completos na forma `Nome Sobrenome`.\n",
    "\n",
    "As listas são:\n",
    "```\n",
    "nomes = [\"joão\", \"MaRia\", \"JOSÉ\"]\n",
    "sobrenomes = [\"SILVA\", \"souza\", \"Tavares\"]\n",
    "```\n",
    "\n",
    "O texto exibido ao fim deve ser parecido com:\n",
    "```\n",
    "\"Nome completo: Ana Silva\"\n",
    "```\n",
    "\n",
    "> Dica: Utilize a função map para mapear os nomes e sobrenomes e as funções de string para tratar o texto."
   ]
  },
  {
   "cell_type": "code",
   "execution_count": 154,
   "metadata": {
    "id": "SdPq27E-a1d0"
   },
   "outputs": [
    {
     "name": "stdout",
     "output_type": "stream",
     "text": [
      "Nome completo: João Silva\n",
      "Nome completo: Maria Souza\n",
      "Nome completo: José Tavares\n"
     ]
    }
   ],
   "source": [
    "nomes = [\"joão\", \"MaRia\", \"JOSÉ\"]\n",
    "sobrenomes = [\"SILVA\", \"souza\", \"Tavares\"]\n",
    "\n",
    "nomes_completos = list(map(lambda x,y: f'{x.capitalize()} {y.capitalize()}',nomes,sobrenomes))\n",
    "\n",
    "for nome_completo in nomes_completos:\n",
    "    print(f'Nome completo: {nome_completo}')\n"
   ]
  },
  {
   "cell_type": "markdown",
   "metadata": {
    "id": "vC2D83mCa1d0"
   },
   "source": [
    "#### Questão 8\n",
    "Como cientista de dados em um time de futebol, você precisa implementar novas formas de coleta de dados sobre o desempenho de jogadores e do time como um todo.\n",
    "\n",
    "Sua primeira ação é criar uma forma de calcular a pontuação do time no campeonato nacional a partir dos dados de gols marcados e sofridos em cada jogo.\n",
    "\n",
    "Escreva uma função chamada `calcula_pontos` que recebe como parâmetros duas listas de números inteiros, representando os gols marcados e sofridos pelo time em cada partida do campeonato.\n",
    "\n",
    "A função deve retornar a pontuação do time e o aproveitamento em percentual, levando em consideração que a vitória vale 3 pontos, o empate vale 1 ponto e a derrota 0 pontos. \n",
    "\n",
    "> Observação: Se a quantidade de gols marcados numa partida for maior que a de sofridos, o time venceu. Caso seja igual, o time empatou e se for menor, o time perdeu. Para calcular o aproveitamento devemos fazer a razão entre a pontuação do time pela pontuação máxima que ele poderia receber. \n",
    "\n",
    "Para teste, utilize as seguintes listas de gols marcados e sofridos\n",
    "```\n",
    "gols_marcados = [2, 1, 3, 1, 0]\n",
    "gols_sofridos = [1, 2, 2, 1, 3]\n",
    "```\n",
    "\n",
    "Provável texto exibido:\n",
    "```\n",
    "\"A pontuação do time foi de [pontos] e seu aproveitamento foi de [aprov]%\"\n",
    "```\n"
   ]
  },
  {
   "cell_type": "code",
   "execution_count": 159,
   "metadata": {},
   "outputs": [
    {
     "name": "stdout",
     "output_type": "stream",
     "text": [
      "A pontuação do time foi de 7 e seu aproveitamento foi de 46.7%\n"
     ]
    }
   ],
   "source": [
    "def compare_lists(a:list,b:list) -> tuple:\n",
    "    '''Compara os valores de duas listas e calcula o aproveitamente de a sobre b\n",
    "\n",
    "    Acrescenta 3 se a > b\n",
    "    acrescenta 1 se a = b\n",
    "    '''\n",
    "    pts = 0\n",
    "\n",
    "    for i in range(len(a)):\n",
    "        if a[i] > b[i]:\n",
    "            pts += 3\n",
    "        elif a[i] == b[i]:\n",
    "            pts += 1\n",
    "\n",
    "    aprov = round(pts / (len(a)*3)*100,1)\n",
    "\n",
    "    return pts,aprov\n",
    "\n",
    "gols_marcados = [2, 1, 3, 1, 0]\n",
    "gols_sofridos = [1, 2, 2, 1, 3]\n",
    "\n",
    "pontos,aprov = compare_lists(gols_marcados,gols_sofridos)\n",
    "\n",
    "print(f'A pontuação do time foi de {pontos} e seu aproveitamento foi de {aprov}%')"
   ]
  },
  {
   "cell_type": "markdown",
   "metadata": {
    "id": "QrBlxV7Da1d0"
   },
   "source": [
    "#### Questão 9\n",
    "\n",
    "Você recebeu o desafio de criar um código que calcula os gastos de uma viagem para um das quatro cidades partindo de Recife: Salvador, Fortaleza, Natal e Aracaju.\n",
    "\n",
    "O custo da diária do hotel é de 150 reais em todas elas e o consumo de gasolina na viagem de carro é de 14 km/l, sendo que o valor da gasolina é de 5 reais o litro. O gastos com passeios e alimentação a se fazer em cada uma delas por dia seria de `[200, 400, 250, 300]`, respectivamente.\n",
    "\n",
    "Sabendo que as distâncias entre Recife e cada uma das cidades é de aproximadamente `[850, 800, 300, 550]` km, crie três funções nas quais a 1ª calcule os gastos com hotel (`gasto_hotel`), a 2ª calcule os gastos com a gasolina (`gasto_gasolina`) e a 3ª os gastos com passeio e alimentação (`gasto_passeio`). \n",
    "\n",
    "Para testar, simule uma viagem de 3 dias para Salvador partindo de Recife. Considere a viagem de ida e volta de carro.\n",
    "```\n",
    "\"Com base nos gastos definidos, uma viagem de [dias] dias para [cidade] saindo de Recife custaria [gastos] reais\"\n",
    "```\n"
   ]
  },
  {
   "cell_type": "code",
   "execution_count": 18,
   "metadata": {
    "id": "VQyaLsnWa1d0"
   },
   "outputs": [
    {
     "name": "stdout",
     "output_type": "stream",
     "text": [
      "Com base nos gastos definidos, uma viagem de 3 dias para salvador saindo de Recife custaria 1657.14 reais\n"
     ]
    }
   ],
   "source": [
    "diaria = 150\n",
    "km_L = 14\n",
    "gas = 5\n",
    "cidades =['salvador', 'fortaleza', 'natal', 'aracaju']\n",
    "gastos_cidade = [200, 400, 250, 300]\n",
    "distancia_cidade = [850, 800, 300, 550]\n",
    "\n",
    "info_viagem = {cidades[i] : [gastos_cidade[i],distancia_cidade[i]] for i in range(len(cidades))}\n",
    "\n",
    "cidade = input('Digite a cidade de viagem (Salvador, Fortaleza, Natal ou Aracaju): ').lower()\n",
    "\n",
    "while cidade not in cidades:\n",
    "    cidade = input(f'Cidade inválida ({cidade}). A cidade deve ser Salvador, Fortaleza, Natal ou Aracaju: ').lower()\n",
    "dias = int(input('Digite a quantidade de dias da viagem: '))\n",
    "\n",
    "gasto_hotel = lambda x: x * diaria\n",
    "\n",
    "gasto_gasolina = lambda x: info_viagem[x][1]*gas*2/km_L\n",
    "\n",
    "gasto_passeio = lambda x: info_viagem[x][0]*dias\n",
    "\n",
    "gastos = gasto_hotel(dias) + gasto_gasolina(cidade) + gasto_passeio(cidade)\n",
    "\n",
    "print(f'Com base nos gastos definidos, uma viagem de {dias} dias para {cidade} saindo de Recife custaria {gastos:.2f} reais')"
   ]
  },
  {
   "cell_type": "markdown",
   "metadata": {
    "id": "Uae8o3eMa1d1"
   },
   "source": [
    "#### Questão 10\n",
    "\n",
    "Você iniciou um estágio em uma empresa que trabalha com processamento de linguagem natural ([NLP](https://www.alura.com.br/artigos/guia-nlp-conceitos-tecnicas)). Sua líder requisitou que você criasse um trecho de código que recebe uma frase digitada pela pessoa usuária e filtre apenas as palavras com tamanho maior ou igual a 5, exibindo-as em uma lista. Essa demanda é voltada para a análise do padrão de comportamento de pessoas na escrita de palavras acima dessa quantidade de caracteres.\n",
    "\n",
    "> Dica: utilize as funções lambda e [`filter()`](https://docs.python.org/pt-br/3/library/functions.html?highlight=filter#filter) para filtrar essas palavras. Lembrando que a função embutida `filter()` recebe uma função (no nosso exemplo uma função lambda) e filtra um iterável de acordo com a função. Para tratar a frase use `replace()` para trocar a ',' '.', '!' e '?' por espaço.\n",
    "\n",
    "Use a frase `\"Aprender Python aqui na Alura é muito bom\"`para testar o código"
   ]
  },
  {
   "cell_type": "code",
   "execution_count": 30,
   "metadata": {
    "id": "_WxPiZWtpWoX"
   },
   "outputs": [
    {
     "name": "stdout",
     "output_type": "stream",
     "text": [
      "A sua frase tem 31 palavras, delas 20 são com 5 ou mais caracteres: \n",
      "['Exercitar', 'importante', 'fixar', 'conteúdo', 'desenvolver', 'habilidades', 'programação', 'identificar', 'pontos', 'ainda', 'foram', 'compreendidos', 'preparar', 'desafios', 'futuros', 'desenvolver', 'pensamento', 'lógico', 'resolução', 'problemas']\n"
     ]
    }
   ],
   "source": [
    "frase = input('Digite a sua frase: ')\n",
    "frase = frase.replace(',',' ').replace('.',' ').replace('!',' ').replace('?',' ').split()\n",
    "\n",
    "total_palavras = len(frase)\n",
    "\n",
    "palavras_filter = list(filter(lambda x: len(x)>=5,frase))\n",
    "\n",
    "print(f'A sua frase tem {total_palavras} palavras, delas {len(palavras_filter)} são com 5 ou mais caracteres: \\n{palavras_filter}')\n"
   ]
  },
  {
   "cell_type": "markdown",
   "metadata": {
    "id": "u_KhhnCfh3ST"
   },
   "source": [
    "## Aula 3 - Estrutura de dados compostas"
   ]
  },
  {
   "cell_type": "markdown",
   "metadata": {
    "id": "6cya3lleh3SU"
   },
   "source": [
    "### Aquecimento"
   ]
  },
  {
   "cell_type": "markdown",
   "metadata": {
    "id": "MLv8mbbth3SU"
   },
   "source": [
    "#### Questão 1\n",
    "\n",
    "Crie um código para imprimir a soma dos elementos de cada uma das listas contidas na seguinte lista:\n",
    "```\n",
    "lista_de_listas = [[4,6,5,9], [1,0,7,2], [3,4,1,8]]\n",
    "```"
   ]
  },
  {
   "cell_type": "code",
   "execution_count": 77,
   "metadata": {
    "id": "P9dywp1xh3SU"
   },
   "outputs": [
    {
     "data": {
      "text/plain": [
       "[24, 10, 16]"
      ]
     },
     "execution_count": 77,
     "metadata": {},
     "output_type": "execute_result"
    }
   ],
   "source": [
    "lista_de_listas = [[4,6,5,9], [1,0,7,2], [3,4,1,8]]\n",
    "\n",
    "soma_listas = [sum(lista) for lista in lista_de_listas]\n",
    "\n",
    "soma_listas"
   ]
  },
  {
   "cell_type": "markdown",
   "metadata": {
    "id": "C72i8R3Ih3SU"
   },
   "source": [
    "#### Questão 2\n",
    "\n",
    "Crie um código para gerar uma lista que armazena o terceiro elemento de cada tupla contida na seguinte lista de tuplas:\n",
    "```\n",
    "lista_de_tuplas = [('Pedro', 1.74, 81), ('Júlia', 1.65, 67), ('Otávio', 1.81, 83)]\n",
    "```"
   ]
  },
  {
   "cell_type": "code",
   "execution_count": 80,
   "metadata": {
    "id": "S9EL1Bvjh3SU"
   },
   "outputs": [
    {
     "data": {
      "text/plain": [
       "[81, 67, 83]"
      ]
     },
     "execution_count": 80,
     "metadata": {},
     "output_type": "execute_result"
    }
   ],
   "source": [
    "lista_de_tuplas = [('Pedro', 1.74, 81), ('Júlia', 1.65, 67), ('Otávio', 1.81, 83)]\n",
    "\n",
    "idades = [itens[2] for itens in lista_de_tuplas]\n",
    "\n",
    "idades"
   ]
  },
  {
   "cell_type": "markdown",
   "metadata": {
    "id": "e5ni69Lwh3SU"
   },
   "source": [
    "#### Questão 3\n",
    "A partir da lista: `lista = ['Pedro', 'Júlia', 'Otávio', 'Eduardo']`, crie um código para gerar uma lista de tuplas em que cada tupla tenha o primeiro elemento como a posição do nome na lista original e o segundo elemento sendo o próprio nome."
   ]
  },
  {
   "cell_type": "code",
   "execution_count": 39,
   "metadata": {
    "id": "x3ckJThph3SU"
   },
   "outputs": [
    {
     "data": {
      "text/plain": [
       "[(0, 'Pedro'), (1, 'Júlia'), (2, 'Otávio'), (3, 'Eduardo')]"
      ]
     },
     "execution_count": 39,
     "metadata": {},
     "output_type": "execute_result"
    }
   ],
   "source": [
    "lista = ['Pedro', 'Júlia', 'Otávio', 'Eduardo']\n",
    "posicao = [i for i in range(len(lista))]\n",
    "\n",
    "lista_tupla = list(zip(posicao,lista))\n",
    "\n",
    "lista_tupla"
   ]
  },
  {
   "cell_type": "markdown",
   "metadata": {
    "id": "mtuC2qBLh3SU"
   },
   "source": [
    "#### Questão 4\n",
    "Crie uma lista usando o list comprehension, que armazena somente o valor numérico de cada tupla caso o primeiro elemento seja 'Apartamento' a partir da seguinte lista de tuplas:\n",
    "```\n",
    "aluguel = [('Apartamento', 1700), ('Apartamento', 1400), ('Casa', 2150), ('Apartamento', 1900), ('Casa', 1100)]\n",
    "```\n",
    "\n"
   ]
  },
  {
   "cell_type": "code",
   "execution_count": 83,
   "metadata": {
    "id": "H1S8yT64h3SU"
   },
   "outputs": [
    {
     "data": {
      "text/plain": [
       "[1700, 1400, 1900]"
      ]
     },
     "execution_count": 83,
     "metadata": {},
     "output_type": "execute_result"
    }
   ],
   "source": [
    "aluguel = [('Apartamento', 1700), ('Apartamento', 1400), ('Casa', 2150), ('Apartamento', 1900), ('Casa', 1100)]\n",
    "\n",
    "valores_apartamento = [itens[1] for itens in aluguel if itens[0] == 'Apartamento']\n",
    "\n",
    "valores_apartamento"
   ]
  },
  {
   "cell_type": "markdown",
   "metadata": {
    "id": "Bd-Xp_iKh3SU"
   },
   "source": [
    "#### Questão 5\n",
    "\n",
    "Crie um dicionário usando o dict comprehension em que as chaves estão na lista `meses = ['Jan', 'Fev', 'Mar', 'Abr', 'Mai', 'Jun', 'Jul', 'Ago', 'Set', 'Out', 'Nov', 'Dez']` e os valores estão na lista `despesa = [860, 490, 1010, 780, 900, 630, 590, 770, 620, 560, 840, 360]`\n",
    "\n"
   ]
  },
  {
   "cell_type": "code",
   "execution_count": 84,
   "metadata": {
    "id": "y7c5ickkh3SV"
   },
   "outputs": [
    {
     "data": {
      "text/plain": [
       "{'Jan': 860,\n",
       " 'Fev': 490,\n",
       " 'Mar': 1010,\n",
       " 'Abr': 780,\n",
       " 'Mai': 900,\n",
       " 'Jun': 630,\n",
       " 'Jul': 590,\n",
       " 'Ago': 770,\n",
       " 'Set': 620,\n",
       " 'Out': 560,\n",
       " 'Nov': 840,\n",
       " 'Dez': 360}"
      ]
     },
     "execution_count": 84,
     "metadata": {},
     "output_type": "execute_result"
    }
   ],
   "source": [
    "meses = ['Jan', 'Fev', 'Mar', 'Abr', 'Mai', 'Jun', 'Jul', 'Ago', 'Set', 'Out', 'Nov', 'Dez']\n",
    "despesa = [860, 490, 1010, 780, 900, 630, 590, 770, 620, 560, 840, 360]\n",
    "\n",
    "despesa_mes = {mes:despesa for mes,despesa in zip(meses,despesa)}\n",
    "\n",
    "despesa_mes"
   ]
  },
  {
   "cell_type": "markdown",
   "metadata": {
    "id": "T9XuUQIph3SU"
   },
   "source": [
    "### Aplicando a projetos"
   ]
  },
  {
   "cell_type": "markdown",
   "metadata": {
    "id": "WrgAw6a0h3SV"
   },
   "source": [
    "#### Questão 6\n",
    "\n",
    "Uma loja possui um banco de dados com a informação de venda de cada representante e de cada ano e precisa filtrar somente os dados do ano 2022 com venda maior do que 6000. A loja forneceu uma amostra contendo apenas as colunas com os anos e os valores de venda para que você ajude a realizar a filtragem dos dados a partir de um código:\n",
    "```\n",
    "vendas = [('2023', 4093), ('2021', 4320), ('2021', 5959), ('2022', 8883), ('2023', 9859), ('2022', 5141), ('2022', 7688), ('2022', 9544), ('2023', 4794), ('2021', 7178), ('2022', 3030), ('2021', 7471), ('2022', 4226), ('2022', 8190), ('2021', 9680), ('2022', 5616)]\n",
    "```\n",
    "Crie uma lista usando list comprehension para filtrar os valores de 2022 e que sejam maiores que 6000.\n"
   ]
  },
  {
   "cell_type": "code",
   "execution_count": 92,
   "metadata": {
    "id": "jQvbtw2sh3SV"
   },
   "outputs": [
    {
     "name": "stdout",
     "output_type": "stream",
     "text": [
      "2022 com mais de 6000 vendas [8883, 7688, 9544, 8190]\n"
     ]
    }
   ],
   "source": [
    "vendas = [('2023', 4093), ('2021', 4320), ('2021', 5959), ('2022', 8883), ('2023', 9859), ('2022', 5141), ('2022', 7688), ('2022', 9544), ('2023', 4794), ('2021', 7178), ('2022', 3030), ('2021', 7471), ('2022', 4226), ('2022', 8190), ('2021', 9680), ('2022', 5616)]\n",
    "\n",
    "\n",
    "TopVendas2022 = [venda[1] for venda in vendas if venda[0] == '2022' and venda[1] >= 6000]\n",
    "\n",
    "print(f'2022 com mais de 6000 vendas {TopVendas2022}')"
   ]
  },
  {
   "cell_type": "markdown",
   "metadata": {
    "id": "8Hl7OgcQh3SV"
   },
   "source": [
    "#### Questão 7\n",
    "\n",
    "Uma clínica analisa dados de pacientes e armazena o valor numérico da glicose em um banco de dados e gostaria de rotular os dados da seguinte maneira:\n",
    "\n",
    "- Glicose igual ou inferior a 70: 'Hipoglicemia'\n",
    "- Glicose entre 70 a 99: 'Normal'\n",
    "- Glicose entre 100 e 125: 'Alterada'\n",
    "- Glicose superior a 125: 'Diabetes'\n",
    "\n",
    "A clínica disponibilizou parte dos valores e sua tarefa é criar uma lista de tuplas usando list comprehension contendo o rótulo e o valor da glicemia em cada tupla.\n",
    "\n",
    "```\n",
    "glicemia = [129, 82, 60, 97, 101, 65, 62, 167, 87, 53, 58, 92, 66, 120, 109, 62, 86, 96, 103, 88, 155, 52, 89, 73]\n",
    "```"
   ]
  },
  {
   "cell_type": "code",
   "execution_count": 108,
   "metadata": {
    "id": "cIDqBZrxh3SV"
   },
   "outputs": [
    {
     "data": {
      "text/plain": [
       "[('Diabetes', 129),\n",
       " ('Normal', 82),\n",
       " ('Hipoglicemia', 60),\n",
       " ('Normal', 97),\n",
       " ('Alterada', 101),\n",
       " ('Hipoglicemia', 65),\n",
       " ('Hipoglicemia', 62),\n",
       " ('Diabetes', 167),\n",
       " ('Normal', 87),\n",
       " ('Hipoglicemia', 53),\n",
       " ('Hipoglicemia', 58),\n",
       " ('Normal', 92),\n",
       " ('Hipoglicemia', 66),\n",
       " ('Alterada', 120),\n",
       " ('Alterada', 109),\n",
       " ('Hipoglicemia', 62),\n",
       " ('Normal', 86),\n",
       " ('Normal', 96),\n",
       " ('Alterada', 103),\n",
       " ('Normal', 88),\n",
       " ('Diabetes', 155),\n",
       " ('Hipoglicemia', 52),\n",
       " ('Normal', 89),\n",
       " ('Normal', 73)]"
      ]
     },
     "execution_count": 108,
     "metadata": {},
     "output_type": "execute_result"
    }
   ],
   "source": [
    "glicemia = [129, 82, 60, 97, 101, 65, 62, 167, 87, 53, 58, 92, 66, 120, 109, 62, 86, 96, 103, 88, 155, 52, 89, 73]\n",
    "\n",
    "glicemia_data = [('Hipoglicemia',x) if x <=70 else ('Normal',x) if x <= 99 else ('Alterada',x) if x <= 125 else ('Diabetes',x) for x in glicemia]\n",
    "\n",
    "glicemia_data\n"
   ]
  },
  {
   "cell_type": "markdown",
   "metadata": {
    "id": "twYIfol8h3SV"
   },
   "source": [
    "#### Questão 8\n",
    "Um e-commerce possui as informações de id de venda, quantidade vendida e preço do produto divididos nas seguintes listas:\n",
    "\n",
    "```\n",
    "id = [0, 1, 2, 3, 4, 5, 6, 7, 8, 9]\n",
    "quantidade = [15, 12, 1, 15, 2, 11, 2, 12, 2, 4]\n",
    "preco = [93.0, 102.0, 18.0, 41.0, 122.0, 14.0, 71.0, 48.0, 14.0, 144.0]\n",
    "```\n",
    "\n",
    "O e-commerce precisa estruturar esses dados em uma tabela contendo o valor total da venda, que é obtida multiplicando a quantidade pelo preço unitário. Além disso, tabela precisa conter um cabeçalho indicando as colunas: 'id', 'quantidade', 'preco' e 'total'. \n",
    "\n",
    "Crie uma lista de tuplas em que cada tupla tenha um id, quantidade, preço e valor total, na qual a primeira tupla é o cabeçalho da tabela.\n"
   ]
  },
  {
   "cell_type": "code",
   "execution_count": 130,
   "metadata": {
    "id": "XnmvwiIwh3SV"
   },
   "outputs": [
    {
     "data": {
      "text/plain": [
       "[('id', 'quantidade', 'preco', 'total'),\n",
       " (0, 15, 93.0, 1395.0),\n",
       " (1, 12, 102.0, 1224.0),\n",
       " (2, 1, 18.0, 18.0),\n",
       " (3, 15, 41.0, 615.0),\n",
       " (4, 2, 122.0, 244.0),\n",
       " (5, 11, 14.0, 154.0),\n",
       " (6, 2, 71.0, 142.0),\n",
       " (7, 12, 48.0, 576.0),\n",
       " (8, 2, 14.0, 28.0),\n",
       " (9, 4, 144.0, 576.0)]"
      ]
     },
     "execution_count": 130,
     "metadata": {},
     "output_type": "execute_result"
    }
   ],
   "source": [
    "id = [0, 1, 2, 3, 4, 5, 6, 7, 8, 9]\n",
    "quantidade = [15, 12, 1, 15, 2, 11, 2, 12, 2, 4]\n",
    "preco = [93.0, 102.0, 18.0, 41.0, 122.0, 14.0, 71.0, 48.0, 14.0, 144.0]\n",
    "\n",
    "table = [('id', 'quantidade', 'preco' , 'total')]\n",
    "\n",
    "table += [(id[i],quantidade[i],preco[i],quantidade[i]*preco[i]) for i in range(len(id))]\n",
    "\n",
    "table"
   ]
  },
  {
   "cell_type": "markdown",
   "metadata": {
    "id": "9tMZEiPzh3SV"
   },
   "source": [
    "#### Questão 9\n",
    "\n",
    "Uma empresa possui filiais espalhadas nos estados da região sudeste do Brasil. Em uma das tabelas de cadastro das filiais, há uma coluna contendo a informação de qual é o estado a que pertence: \n",
    "```\n",
    "estados = ['SP', 'ES', 'MG', 'MG', 'SP', 'MG', 'ES', 'ES', 'ES', 'SP', 'SP', 'MG', 'ES', 'SP', 'RJ', 'MG', 'RJ', 'SP', 'MG', 'SP', 'ES', 'SP', 'MG']\n",
    "```\n",
    "\n",
    "A empresa sempre está abrindo novas filiais, de modo que a tabela está constantemente recebendo novos registros e o gestor gostaria de possuir a informação atualizada da quantidade de filiais em cada estado. A partir da coluna com a informação dos estados, crie um dicionário usando dict comprehension com a chave sendo o nome de um estado e o valor sendo a contagem de vezes em que o estado aparece na lista.\n",
    "\n",
    "> Dica: Você pode fazer um passo intermediário para gerar uma lista de listas em que cada uma das listas possui o nome de apenas um estado com valores repetidos."
   ]
  },
  {
   "cell_type": "code",
   "execution_count": 36,
   "metadata": {
    "id": "qXU5UMUih3SV"
   },
   "outputs": [
    {
     "data": {
      "text/plain": [
       "{'ES': 6, 'MG': 7, 'RJ': 2, 'SP': 8}"
      ]
     },
     "execution_count": 36,
     "metadata": {},
     "output_type": "execute_result"
    }
   ],
   "source": [
    "estados = ['SP', 'ES', 'MG', 'MG', 'SP', 'MG', 'ES', 'ES', 'ES', 'SP', 'SP', 'MG', 'ES', 'SP', 'RJ', 'MG', 'RJ', 'SP', 'MG', 'SP', 'ES', 'SP', 'MG']\n",
    "\n",
    "estados_dict = {key : estados.count(key) for key in set(estados)}\n",
    "\n",
    "estados_dict"
   ]
  },
  {
   "cell_type": "code",
   "execution_count": 37,
   "metadata": {},
   "outputs": [
    {
     "name": "stdout",
     "output_type": "stream",
     "text": [
      "[['ES', 'ES', 'ES', 'ES', 'ES', 'ES'], ['MG', 'MG', 'MG', 'MG', 'MG', 'MG', 'MG'], ['RJ', 'RJ'], ['SP', 'SP', 'SP', 'SP', 'SP', 'SP', 'SP', 'SP']]\n",
      "{'ES': 6, 'MG': 7, 'RJ': 2, 'SP': 8}\n"
     ]
    },
    {
     "data": {
      "text/plain": [
       "['ES', 'MG', 'RJ', 'SP']"
      ]
     },
     "execution_count": 37,
     "metadata": {},
     "output_type": "execute_result"
    }
   ],
   "source": [
    "# Armazenando os estados sem repetição de valor\n",
    "estados_unicos = list(set(estados))\n",
    "\n",
    "# Criando uma lista de listas com valores repetidos de cada estado\n",
    "lista_de_listas = []\n",
    "for estado in estados_unicos:\n",
    "    lista = [uf for uf in estados if uf == estado]\n",
    "    lista_de_listas.append(lista)\n",
    "print(lista_de_listas)\n",
    "\n",
    "# Criando um dicionário em que a chave é o nome de cada estado único e o valor é a contagem de elementos\n",
    "contagem_valores = {estados_unicos[i]: len(lista_de_listas[i]) for i in range(len(estados_unicos))}\n",
    "print(contagem_valores)\n",
    "\n",
    "estados_unicos"
   ]
  },
  {
   "cell_type": "markdown",
   "metadata": {
    "id": "JONqYFZjh3SV"
   },
   "source": [
    "#### Questão 10\n",
    "\n",
    "Nessa mesma tabela de cadastro de filiais, há uma coluna com as informações da quantidade de funcionários e o gestor gostaria de ter um agrupamento da soma de funcionários para cada estado. As informações contidas na tabela são: \n",
    "\n",
    "```\n",
    "funcionarios = [('SP', 16), ('ES', 8), ('MG', 9), ('MG', 6), ('SP', 10), ('MG', 4), ('ES',9), ('ES', 7), ('ES', 12), ('SP', 7), ('SP', 11), ('MG',8), ('ES',8), ('SP',9), ('RJ', 13), ('MG', 5), ('RJ', 9), ('SP', 12), ('MG', 10), ('SP', 7), ('ES', 14), ('SP', 10), ('MG', 12)]\n",
    "```\n",
    "\n",
    "A partir da lista de tuplas, crie um dicionário em que as chaves são os nomes dos estados únicos e os valores são as listas com o número de funcionários referentes ao estado. Crie também um dicionário em que as chaves são os nomes dos estados e os valores são a soma de funcionários(as) por estado.\n",
    "\n",
    "> Dica: Você pode fazer um passo intermediário para gerar uma lista de listas em que cada uma das listas possui apenas os valores numéricos de funcionários de cada estado.\n"
   ]
  },
  {
   "cell_type": "code",
   "execution_count": 33,
   "metadata": {
    "id": "lq42ThQNh3SV"
   },
   "outputs": [
    {
     "name": "stdout",
     "output_type": "stream",
     "text": [
      "{'ES': [8, 9, 7, 12, 8, 14], 'MG': [9, 6, 4, 8, 5, 10, 12], 'RJ': [13, 9], 'SP': [16, 10, 7, 11, 9, 12, 7, 10]}\n",
      "{'ES': 58, 'MG': 54, 'RJ': 22, 'SP': 82}\n"
     ]
    }
   ],
   "source": [
    "funcionarios = [('SP', 16), ('ES', 8), ('MG', 9), ('MG', 6), ('SP', 10), ('MG', 4), ('ES',9), ('ES', 7), ('ES', 12), ('SP', 7), ('SP', 11), ('MG',8), ('ES',8), ('SP',9), ('RJ', 13), ('MG', 5), ('RJ', 9), ('SP', 12), ('MG', 10), ('SP', 7), ('ES', 14), ('SP', 10), ('MG', 12)]\n",
    "\n",
    "estados_key = list(set([key[0] for key in funcionarios]))\n",
    "\n",
    "estados_func = {}\n",
    "estados_func_total = {}\n",
    "\n",
    "for key in estados_key:\n",
    "    lista_func = [qtd[1] for qtd in funcionarios if qtd[0] == key]\n",
    "    estados_func[key] = lista_func\n",
    "    estados_func_total[key] = sum(lista_func)\n",
    "\n",
    "print(estados_func)\n",
    "print(estados_func_total)\n",
    "\n"
   ]
  },
  {
   "cell_type": "markdown",
   "metadata": {
    "id": "ckCXdwLdjYgM"
   },
   "source": [
    "## Aula 4 - Lidando com exceções"
   ]
  },
  {
   "cell_type": "markdown",
   "metadata": {
    "id": "OPBXL2tLjYgM"
   },
   "source": [
    "### Aquecimento"
   ]
  },
  {
   "cell_type": "markdown",
   "metadata": {
    "id": "7z7VpY0ujYgM"
   },
   "source": [
    "#### Questão 1\n",
    "\n",
    "Faça um programa que solicite à pessoa usuária digitar dois números `float` e calcular a divisão entre esses números. O código deve conter um tratamento de erro, indicando o tipo de erro que foi gerado caso a divisão não seja possível de realizar.\n",
    "\n",
    "Teste o programa com o segundo valor numérico do input igual a 0 e também teste utilizando caracteres textuais no input para checar os tipos de erro que ocorrem."
   ]
  },
  {
   "cell_type": "code",
   "execution_count": 58,
   "metadata": {
    "id": "Zg1CLRTxjYgM"
   },
   "outputs": [
    {
     "name": "stdout",
     "output_type": "stream",
     "text": [
      "0.051\n",
      "\n",
      "Programa finalizado\n"
     ]
    }
   ],
   "source": [
    "try:\n",
    "    num1,num2 = float(input('Digite o primeiro número: ')),float(input('Digite o segundo número: '))\n",
    "    result = round(num1/num2,3)\n",
    "except ZeroDivisionError:\n",
    "    print('Não é possível realizar divisão por 0')\n",
    "except ValueError:\n",
    "    print(f'Não é possível realizar a divisão.\\nFavor utilizar números para realizar a divisão,')\n",
    "else:   \n",
    "    print(result)\n",
    "finally:\n",
    "    print('\\nPrograma finalizado')"
   ]
  },
  {
   "cell_type": "markdown",
   "metadata": {
    "id": "KYgeJS5ljYgM"
   },
   "source": [
    "#### Questão 2\n",
    "\n",
    "Faça um programa que solicite à pessoa usuária digitar um texto que será uma chave a ser pesquisada no seguinte dicionário: `idades = {'Júlia': 16, 'Carol': 23, 'Alberto': 19, 'Roberta': 17}`, armazenando o resultado do valor em uma variável. O código deve conter um tratamento de erro `KeyError`, imprimindo a informação 'Nome não encontrado' caso ocorra o erro e imprimir o valor caso não ocorra nenhum.\n",
    "\n",
    "Teste o programa com um nome presente em uma das chaves do dicionário e com um que não esteja no dicionário para verificar a mensagem de erro.\n",
    "\n"
   ]
  },
  {
   "cell_type": "code",
   "execution_count": 70,
   "metadata": {
    "id": "mcTh-_tDjYgM"
   },
   "outputs": [
    {
     "name": "stdout",
     "output_type": "stream",
     "text": [
      "Caio não encontrado\n",
      "\n",
      "Programa finalizado\n"
     ]
    }
   ],
   "source": [
    "idades = {'Júlia': 16, 'Carol': 23, 'Alberto': 19, 'Roberta': 17}\n",
    "\n",
    "pessoa = input('Digite o nome para procurar').capitalize()\n",
    "\n",
    "try:\n",
    "    idade = idades[pessoa]\n",
    "except KeyError:\n",
    "    print(f'{pessoa} não encontrado')\n",
    "else:\n",
    "    print(f'{pessoa} tem {idade} anos')\n",
    "finally:\n",
    "    print('\\nPrograma finalizado')"
   ]
  },
  {
   "cell_type": "markdown",
   "metadata": {
    "id": "tGQNNI_PjYgM"
   },
   "source": [
    "#### Questão 3\n",
    "Crie uma função que recebe uma lista como parâmetro e converta todos os valores da lista para `float`. A função deve conter um tratamento de erro indicando o tipo de erro gerado e retornar a lista caso não tenha ocorrido nenhum erro. Por fim, deve ter a cláusula `finally` para imprimir o texto: 'Fim da execução da função'."
   ]
  },
  {
   "cell_type": "code",
   "execution_count": 90,
   "metadata": {
    "id": "1oflR6ywjYgN"
   },
   "outputs": [
    {
     "name": "stdout",
     "output_type": "stream",
     "text": [
      "Não é possível converter o valor informado.\n",
      "\n",
      "Fim da execução da função\n"
     ]
    }
   ],
   "source": [
    "lista = [8,50,87,16,14,7,'p']\n",
    "\n",
    "def convert_to_float(lista: list) -> list:\n",
    "    lista = [float(lista[i]) for i in range(len(lista))]\n",
    "      \n",
    "    return lista\n",
    "    \n",
    "try:\n",
    "    lista_float = convert_to_float(lista)\n",
    "except ValueError:\n",
    "    print('Não é possível converter o valor informado.')\n",
    "else:\n",
    "    print(lista_float)\n",
    "finally:\n",
    "    print('\\nFim da execução da função')    "
   ]
  },
  {
   "cell_type": "markdown",
   "metadata": {
    "id": "WWE44VS4jYgN"
   },
   "source": [
    "#### Questão 4\n",
    "Crie uma função que recebe duas listas como parâmetros e agrupe os elementos um a um das listas, formando uma lista de tuplas de 3 elementos, onde o primeiro e segundo elemento da tupla são os valores na posição `i` das listas e o terceiro elemento é a soma dos valores na posição `i` das listas. A função deve conter um tratamento de erro indicando o tipo de erro gerado e retornar como resultado a lista de tuplas. Caso as listas enviadas como parâmetro tenham tamanhos diferentes, a função deve retornar um IndexError com a frase: 'A quantidade de elementos em cada lista é diferente.' \n",
    "\n",
    "Dados para testar a função:\n",
    "\n",
    "Valores sem erro:\n",
    "```\n",
    "lista1 = [4,6,7,9,10]\n",
    "lista 2 = [-4,6,8,7,9]\n",
    "```\n",
    "Listas com tamanhos diferentes:\n",
    "\n",
    "```\n",
    "lista1 = [4,6,7,9,10,4]\n",
    "lista 2 = [-4,6,8,7,9]\n",
    "```\n",
    "Listas com valores incoerentes:\n",
    "\n",
    "```\n",
    "lista1 = [4,6,7,9,'A']\n",
    "lista 2 = [-4,'E',8,7,9]\n",
    "```"
   ]
  },
  {
   "cell_type": "code",
   "execution_count": 133,
   "metadata": {
    "id": "iMjbUztBjYgN"
   },
   "outputs": [
    {
     "name": "stdout",
     "output_type": "stream",
     "text": [
      "Par 1\n",
      "[(4, -4, 0), (6, 6, 12), (7, 8, 15), (9, 7, 16), (10, 9, 19)]\n",
      "\n",
      "Par 2\n",
      "A quantidade de elementos em cada lista é diferente.\n",
      "None\n",
      "\n",
      "Par 3\n",
      "Não foi possível somar os valores das listas\n",
      "None\n",
      "\n"
     ]
    }
   ],
   "source": [
    "def soma_listas(list1,list2):\n",
    "    try:\n",
    "        if len(list1) != len(list2):\n",
    "            raise IndexError(f'A quantidade de elementos em cada lista é diferente.')\n",
    "        else:\n",
    "            tuple_sum = [(list1[i],list2[i],list1[i]+list2[i]) for i in range(len(list1))]\n",
    "    except TypeError:\n",
    "        print('Não foi possível somar os valores das listas')\n",
    "    except Exception as e:\n",
    "        print(e)\n",
    "    else:\n",
    "        return tuple_sum\n",
    "\n",
    "print('Par 1')\n",
    "lista1 = [4,6,7,9,10]\n",
    "lista2 = [-4,6,8,7,9]\n",
    "\n",
    "tupla_soma = soma_listas(lista1,lista2)\n",
    "print(f'{tupla_soma}\\n')\n",
    "\n",
    "\n",
    "print('Par 2')\n",
    "lista1 = [4,6,7,9,10,4]\n",
    "lista2 = [-4,6,8,7,9]\n",
    "\n",
    "tupla_soma = soma_listas(lista1,lista2)\n",
    "print(f'{tupla_soma}\\n')\n",
    "\n",
    "\n",
    "print('Par 3')\n",
    "lista1 = [4,6,7,9,'A']\n",
    "lista2 = [-4,'E',8,7,9]\n",
    "\n",
    "tupla_soma = soma_listas(lista1,lista2)\n",
    "print(f'{tupla_soma}\\n')"
   ]
  },
  {
   "cell_type": "markdown",
   "metadata": {
    "id": "vNSw4u6hjYgN"
   },
   "source": [
    "### Aplicando a projetos"
   ]
  },
  {
   "cell_type": "markdown",
   "metadata": {
    "id": "AHC6OFQDjYgN"
   },
   "source": [
    "#### Questão 5\n",
    "\n",
    "Você recebeu como desafio desenvolver um código que contabiliza as pontuações de estudantes de uma instituição de ensino de acordo com suas respostas num teste. \n",
    "\n",
    "Este código deve ser testado para um exemplo de 3 estudantes com uma lista de listas em que cada lista possui as respostas de 5 questões objetivas de cada estudante. Cada questão vale um ponto e as alternativas possíveis são A, B, C ou D. \n",
    "\n",
    "Caso alguma alternativa em um dos testes não esteja entre as alternativas possíveis você deve lançar um **ValueError** com a mensagem `\"A alternativa [alternativa] não é uma opção de alternativa válida\"`. O cálculo das 3 notas só será realizado mediante as entradas com as alternativas A, B, C ou D em todos os testes.\n",
    "\n",
    "Se não for lançada a exceção, será exibida uma lista com as notas em cada teste.\n",
    "\n",
    "Os dados para o teste do código são:\n",
    "\n",
    "- **Gabarito da prova**:\n",
    "```\n",
    "gabarito = ['D', 'A', 'B', 'C', 'A']\n",
    "```\n",
    "Abaixo temos 2 listas de listas que você pode usar como teste\n",
    "\n",
    "- **Notas sem exceção:**\n",
    "```\n",
    "testes_sem_ex = [['D', 'A', 'B', 'C', 'A'], ['C', 'A', 'A', 'C', 'A'], ['D', 'B', 'A', 'C', 'A']]\n",
    "```\n",
    "- **Notas com exceção:**\n",
    "```\n",
    "testes_com_ex = [['D', 'A', 'B', 'C', 'A'], ['C', 'A', 'A', 'E', 'A'], ['D', 'B', 'A', 'C', 'A']]\n",
    "```\n",
    "\n",
    "> Dica: Para verificar se uma entrada da lista não está entre as alternativas possíveis use a estrutura `lista[i] not in ['A','B','C','D']` (Por exemplo, `1 not in [2,3,4]`... Saída: `True`) "
   ]
  },
  {
   "cell_type": "code",
   "execution_count": 32,
   "metadata": {
    "id": "n7AJhrMpjYgN"
   },
   "outputs": [],
   "source": [
    "# Função para correção das notas\n",
    "def gabarito_func(gabarito: list,respostas: list) -> list:\n",
    "    '''Compara duas listas e pontua quando houver correspondência'''\n",
    "    notas = []\n",
    "    try:\n",
    "        for alternativas in respostas:\n",
    "            for alternativa in alternativas:\n",
    "                if alternativa not in ['A','B','C','D']:\n",
    "                    raise ValueError(f'A alternativa {alternativa} não é uma opção de alternativa válida')\n",
    "            notas.append(sum([1 for i in range(len(alternativas)) if alternativas[i] == gabarito[i]]))\n",
    "    except Exception as e:\n",
    "        print(f'{type(e)}: {e}')\n",
    "    else:    \n",
    "        return notas"
   ]
  },
  {
   "cell_type": "code",
   "execution_count": 33,
   "metadata": {
    "id": "o_05pMigo-tR"
   },
   "outputs": [
    {
     "data": {
      "text/plain": [
       "[5, 3, 3]"
      ]
     },
     "execution_count": 33,
     "metadata": {},
     "output_type": "execute_result"
    }
   ],
   "source": [
    "# Testando no exemplo que não lança exceção\n",
    "gabarito = ['D', 'A', 'B', 'C', 'A']\n",
    "testes_sem_ex = [['D', 'A', 'B', 'C', 'A'], ['C', 'A', 'A', 'C', 'A'], ['D', 'B', 'A', 'C', 'A']]\n",
    "\n",
    "nota = gabarito_func(gabarito,testes_sem_ex)\n",
    "\n",
    "nota"
   ]
  },
  {
   "cell_type": "code",
   "execution_count": 34,
   "metadata": {
    "id": "PWeHm6Fjo-at"
   },
   "outputs": [
    {
     "name": "stdout",
     "output_type": "stream",
     "text": [
      "<class 'ValueError'>: A alternativa E não é uma opção de alternativa válida\n"
     ]
    }
   ],
   "source": [
    "# Testando no exemplo que lança exceção\n",
    "gabarito = ['D', 'A', 'B', 'C', 'A']\n",
    "testes_com_ex = [['D', 'A', 'B', 'C', 'A'], ['C', 'A', 'A', 'E', 'A'], ['D', 'B', 'A', 'C', 'A']]\n",
    "\n",
    "nota = gabarito_func(gabarito,testes_com_ex)\n",
    "\n",
    "nota"
   ]
  },
  {
   "cell_type": "markdown",
   "metadata": {
    "id": "AjQWxSIq28Ac"
   },
   "source": [
    "#### Questão 6\n",
    "\n",
    "Você está trabalhando com processamento de linguagem natural ([NLP](https://www.alura.com.br/artigos/guia-nlp-conceitos-tecnicas)) e, dessa vez, sua líder requisitou que você criasse um trecho de código que recebe uma lista com as palavras separadas de uma frase gerada pelo ChatGPT. \n",
    "\n",
    "Você precisa criar uma função que avalia cada palavra desse texto e verificar se o tratamento para retirar os símbolos de pontuação (',' '.', '!' e '?') foi realizado. Caso contrário, será lançada uma exceção do tipo **ValueError** apontando o 1º caso em que foi detectado o uso de uma pontuação por meio da frase `\"O texto apresenta pontuações na palavra \"[palavra]\".\"`.\n",
    "\n",
    "Essa demanda é voltada para a análise do padrão de frases geradas pela inteligência artificial.\n",
    "\n",
    "> Dica: Para verificar se uma ou mais das pontuações estão presentes em cada palavra, utilize a palavra chave `or` na condição if (Por exemplo, `('a' or 'b') in 'alura'` ... Saída: `True`) \n",
    "\n",
    "Os dados para o teste do código são:\n",
    "\n",
    "- **Lista tratada:**\n",
    "```\n",
    "lista_tratada = ['Python', 'é', 'uma', 'linguagem', 'de', 'programação', 'poderosa', 'versátil',\n",
    "                  'e', 'fácil', 'de', 'aprender', 'utilizada', 'em', 'diversos', 'campos', 'desde',\n",
    "                  'análise', 'de', 'dados', 'até', 'inteligência', 'artificial']\n",
    "```\n",
    "- **Lista não tratada:**\n",
    "```\n",
    "lista_nao_tratada = ['Python', 'é', 'uma', 'linguagem', 'de', 'programação', 'poderosa,', 'versátil',\n",
    "                  'e', 'fácil,', 'de', 'aprender', 'utilizada', 'em', 'diversos', 'campos,', 'desde',\n",
    "                  'análise', 'de', 'dados', 'até', 'inteligência', 'artificial!']\n",
    "```\n"
   ]
  },
  {
   "cell_type": "code",
   "execution_count": 76,
   "metadata": {
    "id": "gxVg1sc_xACI"
   },
   "outputs": [],
   "source": [
    "# criando a função que recebe a lista de palavras\n",
    "def valida_palavras(palavras: list) -> str:\n",
    "    '''Valida se as palvras na lista contém simbolos de pontuação'''\n",
    "    try:\n",
    "        for palavra in palavras:\n",
    "            if ',' in palavra or '.' in palavra or '!' in palavra or '?' in palavra:\n",
    "                raise ValueError(f'O texto apresenta pontuações na palavra \"{palavra}\"')\n",
    "    except Exception as e:\n",
    "        print(f'{type(e)}: {e}')  \n",
    "    else:\n",
    "        print('O texto não apresenta pontuações') "
   ]
  },
  {
   "cell_type": "code",
   "execution_count": 77,
   "metadata": {
    "id": "gDvOq79slmlJ"
   },
   "outputs": [
    {
     "name": "stdout",
     "output_type": "stream",
     "text": [
      "O texto não apresenta pontuações\n"
     ]
    }
   ],
   "source": [
    "# Testando no exemplo que não lança exceção\n",
    "lista_tratada = ['Python', 'é', 'uma', 'linguagem', 'de', 'programação', 'poderosa', 'versátil',\n",
    "                  'e', 'fácil', 'de', 'aprender', 'utilizada', 'em', 'diversos', 'campos', 'desde',\n",
    "                  'análise', 'de', 'dados', 'até', 'inteligência', 'artificial']\n",
    "\n",
    "valida_palavras(lista_tratada)"
   ]
  },
  {
   "cell_type": "code",
   "execution_count": 78,
   "metadata": {
    "id": "PQADJf42woaw"
   },
   "outputs": [
    {
     "name": "stdout",
     "output_type": "stream",
     "text": [
      "<class 'ValueError'>: O texto apresenta pontuações na palavra \"poderosa,\"\n"
     ]
    }
   ],
   "source": [
    "# Testando no exemplo que lança exceção\n",
    "lista_nao_tratada = ['Python', 'é', 'uma', 'linguagem', 'de', 'programação', 'poderosa,', 'versátil',\n",
    "                  'e', 'fácil,', 'de', 'aprender', 'utilizada', 'em', 'diversos', 'campos,', 'desde',\n",
    "                  'análise', 'de', 'dados', 'até', 'inteligência', 'artificial!']\n",
    "\n",
    "valida_palavras(lista_nao_tratada)"
   ]
  },
  {
   "cell_type": "markdown",
   "metadata": {
    "id": "3IhndsTyzdRq"
   },
   "source": [
    "#### Questão 7\n",
    "Você foi contratado como uma pessoa cientista de dados para auxiliar um laboratório que faz experimentos sobre o comportamento de uma cultura de fungos. O laboratório precisa avaliar constantemente a razão (divisão) entre os dados de pressão e temperatura do ambiente controlado recolhidos durante a experimentação para definir a melhor condição para os testes.\n",
    "\n",
    "Para cumprir com a demanda, você precisa criar uma função `divide_colunas` que recebe os dados das colunas de pressão e temperatura (que vem no formato de listas) e gerar uma nova coluna com o resultado da divisão. Os parâmetros da função são as duas listas e você deve tratar dentro dela ao menos 2 tipos de exceções:   \n",
    "- Verificar se as listas têm o mesmo tamanho (ValueError)\n",
    "- Verificar se existe alguma divisão por zero (ZeroDivisionError)\n",
    "\n",
    "Para testar a função, vamos realizar a divisão entre duas listas de dados coletados no experimento, com os valores de pressão e temperatura do ambiente controlado. \n",
    "\n",
    "Como teste, use os seguintes dados:\n",
    "\n",
    "- **Dados sem exceção:**\n",
    "```\n",
    "pressoes = [100, 120, 140, 160, 180]\n",
    "temperaturas = [20, 25, 30, 35, 40]\n",
    "```\n",
    "- **Dados com exceção:**\n",
    "1. Exceção de ZeroDivisionError \n",
    "```\n",
    "pressoes = [60, 120, 140, 160, 180]\n",
    "temperaturas = [0, 25, 30, 35, 40]\n",
    "```\n",
    "2. Exceção de ValueError\n",
    "```\n",
    "pressoes = [100, 120, 140, 160]\n",
    "temperaturas = [20, 25, 30, 35, 40]\n",
    "```\n",
    "\n",
    "> Dica: Você pode usar `zip()` para parear os dados da lista_1 com a lista_2. Crie uma estrutura try-except que caso uma das exceções sejam lançadas, podemos ver o tipo de erro na saída.\n"
   ]
  },
  {
   "cell_type": "code",
   "execution_count": null,
   "metadata": {
    "id": "pYofyZVsuF2Y"
   },
   "outputs": [],
   "source": [
    "def divide_colunas(a: list,b: list) -> tuple:\n",
    "    '''Calcula a razão entre duas lista e retorna uma tupla'''\n",
    "    try:\n",
    "        if len(a) != len(b):\n",
    "            raise ValueError('Uma das listas tem mais elementos que a outra')\n",
    "        \n",
    "        razao =[(press,temp,round(press/temp,2)) for press,temp in zip(a,b)]\n",
    "    except ZeroDivisionError:\n",
    "        print('Não é possível calcular a razao, valor 0 encontrado')\n",
    "    except Exception as e:\n",
    "        print(f'{type(e)}: {e}')\n",
    "    else:\n",
    "        return razao"
   ]
  },
  {
   "cell_type": "code",
   "execution_count": 65,
   "metadata": {
    "id": "gSvAEmxit1zI"
   },
   "outputs": [
    {
     "data": {
      "text/plain": [
       "[(100, 20, 5.0),\n",
       " (120, 25, 4.8),\n",
       " (140, 30, 4.67),\n",
       " (160, 35, 4.57),\n",
       " (180, 40, 4.5)]"
      ]
     },
     "execution_count": 65,
     "metadata": {},
     "output_type": "execute_result"
    }
   ],
   "source": [
    "# Testando no exemplo que não lança exceção\n",
    "pressoes = [100, 120, 140, 160, 180]\n",
    "temperaturas = [20, 25, 30, 35, 40]\n",
    "\n",
    "divisao = divide_colunas(pressoes,temperaturas)\n",
    "divisao"
   ]
  },
  {
   "cell_type": "code",
   "execution_count": 66,
   "metadata": {
    "id": "bvebuMOot4ur"
   },
   "outputs": [
    {
     "name": "stdout",
     "output_type": "stream",
     "text": [
      "Não é possível calcular a razao, valor 0 encontrado\n"
     ]
    }
   ],
   "source": [
    "# Testando no exemplo que lança exceção (ZeroDivisionError)\n",
    "pressoes = [60, 120, 140, 160, 180]\n",
    "temperaturas = [0, 25, 30, 35, 40]\n",
    "\n",
    "divisao = divide_colunas(pressoes,temperaturas)\n",
    "divisao"
   ]
  },
  {
   "cell_type": "code",
   "execution_count": 67,
   "metadata": {
    "id": "sFsfTVHqt4d5"
   },
   "outputs": [
    {
     "name": "stdout",
     "output_type": "stream",
     "text": [
      "<class 'ValueError'>: Uma das listas tem mais elementos que a outra\n"
     ]
    }
   ],
   "source": [
    "# Testando no exemplo que lança exceção (ValueError)\n",
    "pressoes = [100, 120, 140, 160]\n",
    "temperaturas = [20, 25, 30, 35, 40]\n",
    "\n",
    "divisao = divide_colunas(pressoes,temperaturas)\n",
    "divisao"
   ]
  }
 ],
 "metadata": {
  "colab": {
   "provenance": []
  },
  "kernelspec": {
   "display_name": ".venv",
   "language": "python",
   "name": "python3"
  },
  "language_info": {
   "codemirror_mode": {
    "name": "ipython",
    "version": 3
   },
   "file_extension": ".py",
   "mimetype": "text/x-python",
   "name": "python",
   "nbconvert_exporter": "python",
   "pygments_lexer": "ipython3",
   "version": "3.10.12"
  }
 },
 "nbformat": 4,
 "nbformat_minor": 0
}
