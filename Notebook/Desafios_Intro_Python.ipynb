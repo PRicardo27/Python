{
 "cells": [
  {
   "cell_type": "markdown",
   "metadata": {
    "id": "_kwAaQ36gLQ1"
   },
   "source": [
    "# Sobre o notebook\n",
    "\n",
    "A \"hora da prática\" é uma atividade do curso de Python para Data Science da Alura que contém diversos desafios envolvendo os aprendizados de cada aula.\n",
    "\n",
    "O notebook \"hora da pratica\" é um notebook construído com espaço para as células dos desafios propostos no curso, com ele você tem espaço para construir e executar suas soluções"
   ]
  },
  {
   "cell_type": "markdown",
   "metadata": {
    "id": "Mc-KN0dA0Z83"
   },
   "source": [
    "## Aula 1 - Introdução ao Python"
   ]
  },
  {
   "cell_type": "markdown",
   "metadata": {
    "id": "l5eLWf0W0ikn"
   },
   "source": [
    "### Questão 1\n",
    "\n",
    "Imprima a frase `Escola de Dados da Alura!`"
   ]
  },
  {
   "cell_type": "code",
   "execution_count": 1,
   "metadata": {
    "id": "5pllxJ0h0-yA"
   },
   "outputs": [
    {
     "name": "stdout",
     "output_type": "stream",
     "text": [
      "Escola de Dados da Alura\n"
     ]
    }
   ],
   "source": [
    "print('Escola de Dados da Alura')"
   ]
  },
  {
   "cell_type": "markdown",
   "metadata": {
    "id": "tQdX90Ue03c7"
   },
   "source": [
    "### Questão 2\n",
    "Imprima na tela seu nome e seu sobrenome seguindo a estrutura abaixo:\n",
    "```\n",
    "Nome: [seu nome]\n",
    "Sobrenome: [seu sobrenome]\n",
    "```\n"
   ]
  },
  {
   "cell_type": "code",
   "execution_count": 2,
   "metadata": {
    "id": "RVw5iKn20_Ps"
   },
   "outputs": [
    {
     "name": "stdout",
     "output_type": "stream",
     "text": [
      "Nome: Paulo\n",
      "Sobrenome: Miranda\n"
     ]
    }
   ],
   "source": [
    "print('Nome: Paulo\\nSobrenome: Miranda')"
   ]
  },
  {
   "cell_type": "markdown",
   "metadata": {
    "id": "gfg-aiip03vC"
   },
   "source": [
    "### Questão 3\n",
    "Imprima o seu primeiro nome letra a letra. Por exemplo, nome é Mirla, então eu obtenho a seguinte saída:\n",
    "```\n",
    "M\n",
    "I\n",
    "R\n",
    "L\n",
    "A\n",
    "```\n"
   ]
  },
  {
   "cell_type": "code",
   "execution_count": 3,
   "metadata": {
    "id": "v5bkrgf60_qx"
   },
   "outputs": [
    {
     "name": "stdout",
     "output_type": "stream",
     "text": [
      "P\n",
      "A\n",
      "U\n",
      "L\n",
      "O\n"
     ]
    }
   ],
   "source": [
    "print('P\\nA\\nU\\nL\\nO')"
   ]
  },
  {
   "cell_type": "markdown",
   "metadata": {
    "id": "oadrJbl704MM"
   },
   "source": [
    "### Questão 4\n",
    "Imprima o dia do seu nascimento em formato `dia mês ano`. Os valores de dia e ano não podem estar entre aspas. O formato deve estar como no exemplo, supondo uma data de aniversário dia 28 de fevereiro de 2003:\n",
    "```\n",
    "28 fevereiro 2003\n",
    "```"
   ]
  },
  {
   "cell_type": "code",
   "execution_count": 4,
   "metadata": {
    "id": "cx0KSsrq1ALD"
   },
   "outputs": [
    {
     "name": "stdout",
     "output_type": "stream",
     "text": [
      "27 Dezembro 1990\n"
     ]
    }
   ],
   "source": [
    "print(27,'Dezembro', 1990)"
   ]
  },
  {
   "cell_type": "markdown",
   "metadata": {
    "id": "3RgyMaan04TD"
   },
   "source": [
    "### Questão 5\n",
    "Imprima em um único print o atual ano que você está fazendo esse curso, o valor do ano deve ser um dado numérico. A saída do print deve ser a seguinte:\n",
    "```\n",
    "Ano atual: [ano]\n",
    "```\n"
   ]
  },
  {
   "cell_type": "code",
   "execution_count": 5,
   "metadata": {
    "id": "UN77EfQ2d36Y"
   },
   "outputs": [
    {
     "name": "stdout",
     "output_type": "stream",
     "text": [
      "Ano atual: 2025\n"
     ]
    }
   ],
   "source": [
    "print('Ano atual:',2025)"
   ]
  },
  {
   "cell_type": "markdown",
   "metadata": {
    "id": "D9e3FqhO1S3X"
   },
   "source": [
    "## Aula 2 - Manipulando dados no Python"
   ]
  },
  {
   "cell_type": "markdown",
   "metadata": {
    "id": "n6o7C1Ze2cRe"
   },
   "source": [
    "### Coleta e amostragem de dados"
   ]
  },
  {
   "cell_type": "markdown",
   "metadata": {
    "id": "sRneWag9PV5Q"
   },
   "source": [
    "#### Questão 1\n",
    "Crie um programa que solicite à pessoa usuária digitar seu nome, e imprima “Olá, [nome]!”."
   ]
  },
  {
   "cell_type": "code",
   "execution_count": 6,
   "metadata": {
    "id": "dbX1fKqy2HnE"
   },
   "outputs": [
    {
     "name": "stdout",
     "output_type": "stream",
     "text": [
      "Olá Paulo!\n"
     ]
    }
   ],
   "source": [
    "nome = input('Digite o seu nome')\n",
    "print(f'Olá {nome}!')"
   ]
  },
  {
   "cell_type": "markdown",
   "metadata": {
    "id": "BJ1SznEp70d5"
   },
   "source": [
    "#### Questão 2\n",
    "Crie um programa que solicite à pessoa usuária digitar seu nome e idade, e imprima “Olá, [nome], você tem [idade] anos.”."
   ]
  },
  {
   "cell_type": "code",
   "execution_count": 7,
   "metadata": {
    "id": "jKz-0Sq8PFkp"
   },
   "outputs": [
    {
     "name": "stdout",
     "output_type": "stream",
     "text": [
      "Olá Paulo, você tem por volta de 35 anos\n"
     ]
    }
   ],
   "source": [
    "nome = input('Digite seu nome')\n",
    "idade = int(input(f'{nome}, digite seu ano de nascimento'))\n",
    "\n",
    "idade = 2025-idade\n",
    "\n",
    "print(f'Olá {nome}, você tem por volta de {idade} anos')"
   ]
  },
  {
   "cell_type": "markdown",
   "metadata": {
    "id": "2T0jNYZt70aa"
   },
   "source": [
    "#### Questão 3\n",
    "Crie um programa que solicite à pessoa usuária digitar seu nome, idade e altura em metros, e imprima “Olá, [nome], você tem [idade] anos e mede [altura] metros!”."
   ]
  },
  {
   "cell_type": "code",
   "execution_count": 8,
   "metadata": {
    "id": "pI4kHNzTPIXh"
   },
   "outputs": [
    {
     "name": "stdout",
     "output_type": "stream",
     "text": [
      "Olá Paulo, você tem aproximadamente 35 anos e mede 1.85 metros!\n"
     ]
    }
   ],
   "source": [
    "nome = input('Digite seu nome')\n",
    "ano_nasc = int(input(f'{nome}, digite seu ano de nascimento'))\n",
    "altura = float(input(f'{nome}, agora digite a sua altura em metros (separa os centimentos com ponto)'))\n",
    "\n",
    "idade = 2025-ano_nasc\n",
    "\n",
    "print(f'Olá {nome}, você tem aproximadamente {idade} anos e mede {altura} metros!')"
   ]
  },
  {
   "cell_type": "markdown",
   "metadata": {
    "id": "mEBFwKkC70KP"
   },
   "source": [
    "### Calculadora com operadores"
   ]
  },
  {
   "cell_type": "markdown",
   "metadata": {
    "id": "H-IV1oAPPSqK"
   },
   "source": [
    "#### Questão 1\n",
    "\n",
    "Crie um programa que solicite dois valores numéricos à pessoa usuária e imprima a soma dos dois valores."
   ]
  },
  {
   "cell_type": "code",
   "execution_count": null,
   "metadata": {
    "id": "Zb0W84sy8rnp"
   },
   "outputs": [
    {
     "name": "stdout",
     "output_type": "stream",
     "text": [
      "O valor da soma de 15 com 30 é 45\n"
     ]
    }
   ],
   "source": [
    "num = int(input('Vamos Somar, digite o primeiro número'))\n",
    "num2 = int(input('Digite o segundo número'))\n",
    "\n",
    "result = num+num2\n",
    "\n",
    "print(f'O valor da soma de {num} com {num2} é {result}')"
   ]
  },
  {
   "cell_type": "markdown",
   "metadata": {
    "id": "LUoi2MOu70Em"
   },
   "source": [
    "#### Questão 2\n",
    "Crie um programa que solicite três valores numéricos à pessoa usuária e imprima a soma dos três valores."
   ]
  },
  {
   "cell_type": "code",
   "execution_count": null,
   "metadata": {
    "id": "4FYjWyBS8rDm"
   },
   "outputs": [
    {
     "name": "stdout",
     "output_type": "stream",
     "text": [
      "O valor da soma de 15 com 25 e 258 é de 298\n"
     ]
    }
   ],
   "source": [
    "num = int(input('Vamos Somar, digite o primeiro número'))\n",
    "num2 = int(input('Digite o segundo número'))\n",
    "num3 = int(input('Digite o terceiro número'))\n",
    "\n",
    "result = num+num2+num3\n",
    "\n",
    "print(f'O valor da soma de {num} com {num2} e {num3} é de {result}')"
   ]
  },
  {
   "cell_type": "markdown",
   "metadata": {
    "id": "lezGctF07z8i"
   },
   "source": [
    "#### Questão 3\n",
    "Crie um programa que solicite dois valores numéricos à pessoa usuária e imprima a subtração do primeiro pelo o segundo valor."
   ]
  },
  {
   "cell_type": "code",
   "execution_count": null,
   "metadata": {
    "id": "k0GE1z4w8p3J"
   },
   "outputs": [
    {
     "name": "stdout",
     "output_type": "stream",
     "text": [
      "O resultado de 159 menos 21 é de 138\n"
     ]
    }
   ],
   "source": [
    "num = int(input('Vamos subtrair, digite o primeiro número'))\n",
    "num2 = int(input('Digite o segundo número'))\n",
    "\n",
    "result = num-num2\n",
    "\n",
    "print('O resultado de {} menos {} é de {}'.format(num,num2,result))"
   ]
  },
  {
   "cell_type": "markdown",
   "metadata": {
    "id": "wwMP-dPU7zxW"
   },
   "source": [
    "#### Questão 4\n",
    "\n",
    "Crie um programa que solicite dois valores numéricos à pessoa usuária e imprima a multiplicação dos dois valores.\n"
   ]
  },
  {
   "cell_type": "code",
   "execution_count": null,
   "metadata": {
    "id": "GzFCVHfp8peZ"
   },
   "outputs": [
    {
     "name": "stdout",
     "output_type": "stream",
     "text": [
      "O valor de 12 multiplicado por 25 é de 300\n"
     ]
    }
   ],
   "source": [
    "num = int(input('Vamos multiplicar, digite o primeiro número'))\n",
    "num2 = int(input('Digite o segundo número'))\n",
    "\n",
    "result = num*num2\n",
    "\n",
    "print(f'O valor de {num} multiplicado por {num2} é de {result}')"
   ]
  },
  {
   "cell_type": "markdown",
   "metadata": {
    "id": "9kxyHxUo7zRD"
   },
   "source": [
    "#### Questão 5\n",
    "\n",
    "Crie um programa que solicite dois valores numéricos, um numerador e um denominador, e realize a divisão entre os dois valores. Deixe claro que o valor do denominador não pode ser `0`.\n"
   ]
  },
  {
   "cell_type": "code",
   "execution_count": null,
   "metadata": {
    "id": "ytJ8l5KH8ozc"
   },
   "outputs": [
    {
     "name": "stdout",
     "output_type": "stream",
     "text": [
      "A divisão entre 150 por 10 é igual a 15.0\n"
     ]
    }
   ],
   "source": [
    "num = int(input('Vamos dividir, digite o primeiro número [numerador]'))\n",
    "num2 = int(input('Digite o segundo número [denominador], que deve ser maior que ZERO'))\n",
    "\n",
    "result = num/num2\n",
    "\n",
    "print(f'A divisão entre {num} por {num2} é igual a {result}')"
   ]
  },
  {
   "cell_type": "markdown",
   "metadata": {
    "id": "zkUSBTQq8Hxt"
   },
   "source": [
    "#### Questão 6\n",
    "\n",
    "Crie um programa que solicite dois valores numéricos, um operador e uma potência, e realize a exponenciação entre esses dois valores.\n"
   ]
  },
  {
   "cell_type": "code",
   "execution_count": null,
   "metadata": {
    "id": "RPj36jq08oZp"
   },
   "outputs": [
    {
     "name": "stdout",
     "output_type": "stream",
     "text": [
      "O resultado da potência 9 elevado a 3 é de 729\n"
     ]
    }
   ],
   "source": [
    "num = int(input('Vamos Potencializar, digite o primeiro número (número base)'))\n",
    "num2 = int(input('Digite o segundo número (expoente)'))\n",
    "\n",
    "result = num**num2\n",
    "\n",
    "print(f'O resultado da potência {num} elevado a {num2} é de {result}')"
   ]
  },
  {
   "cell_type": "markdown",
   "metadata": {
    "id": "yiunIusZ8Huj"
   },
   "source": [
    "#### Questão 7\n",
    "Crie um programa que solicite dois valores numéricos, um numerador e um denominador e realize a divisão inteira entre os dois valores. Deixe claro que o valor do denominador não pode ser `0`."
   ]
  },
  {
   "cell_type": "code",
   "execution_count": null,
   "metadata": {
    "id": "UHK8xITf8oCg"
   },
   "outputs": [
    {
     "name": "stdout",
     "output_type": "stream",
     "text": [
      "O numero inteiro da divisão entre 756 por 12 é de 63\n"
     ]
    }
   ],
   "source": [
    "num = int(input('Vamos encontrar o inteiro da divisão, digite o primeiro número (numerador)'))\n",
    "num2 = int(input('Digite o segundo número (denominador), que deve ser maior que ZERO'))\n",
    "\n",
    "result = num//num2\n",
    "\n",
    "print(f'O numero inteiro da divisão entre {num} por {num2} é de {result}')"
   ]
  },
  {
   "cell_type": "markdown",
   "metadata": {
    "id": "z_D_JiLX8Hra"
   },
   "source": [
    "#### Questão 8\n",
    "\n",
    "Crie um programa que solicite dois valores numéricos, um numerador e um denominador, e retorne o resto da divisão entre os dois valores. Deixe claro que o valor do denominador não pode ser `0`."
   ]
  },
  {
   "cell_type": "code",
   "execution_count": null,
   "metadata": {
    "id": "EWGJeukO8nqx"
   },
   "outputs": [
    {
     "name": "stdout",
     "output_type": "stream",
     "text": [
      "O numero resto da divisão entre 7 por 3 é de 1\n"
     ]
    }
   ],
   "source": [
    "num = int(input('Vamos encontrar o resto da divisão, digite o primeiro número (numerador)'))\n",
    "num2 = int(input('Digite o segundo número (denominador), que deve ser maior que ZERO'))\n",
    "\n",
    "result = num%num2\n",
    "\n",
    "print(f'O numero resto da divisão entre {num} por {num2} é de {result}')"
   ]
  },
  {
   "cell_type": "markdown",
   "metadata": {
    "id": "RDRajNkU8N8N"
   },
   "source": [
    "#### Questão 9\n",
    "\n",
    "Crie um código que solicita 3 notas de um estudante e imprima a média das notas."
   ]
  },
  {
   "cell_type": "code",
   "execution_count": 17,
   "metadata": {
    "id": "H6F4Ojzt8nSR"
   },
   "outputs": [
    {
     "name": "stdout",
     "output_type": "stream",
     "text": [
      "Digite as 3 notas do aluno\n",
      "Primeira Nota: 10.0\n",
      "Segunda Nota: 6.5\n",
      "Terceira Nota: 8.0\n",
      "\n",
      "A média das notas do Aluno é: 8.17\n"
     ]
    }
   ],
   "source": [
    "print('Digite as 3 notas do aluno')\n",
    "\n",
    "nota1 = float(input('Digite a primeira nota'))\n",
    "nota2 = float(input('Digite a segunda nota'))\n",
    "nota3 = float(input('Digite a terceira nota'))\n",
    "\n",
    "result = (nota1+nota2+nota3)/3\n",
    "\n",
    "print(f'Primeira Nota: {nota1}\\nSegunda Nota: {nota2}\\nTerceira Nota: {nota3}\\n\\nA média das notas do Aluno é: {result:.2f}')\n"
   ]
  },
  {
   "cell_type": "markdown",
   "metadata": {
    "id": "d7fjkne58N21"
   },
   "source": [
    "#### Questão 10\n",
    "\n",
    "Crie um código que calcule e imprima a média ponderada dos números 5, 12, 20 e 15 com pesos respectivamente iguais a 1, 2, 3 e 4."
   ]
  },
  {
   "cell_type": "code",
   "execution_count": null,
   "metadata": {
    "id": "fwjoHlV48mkv"
   },
   "outputs": [
    {
     "name": "stdout",
     "output_type": "stream",
     "text": [
      "A média ponderada dos valores 5, 12, 20 e 15 com os respectivos pesos 1, 2, 3 e 4 é de 37.25\n"
     ]
    }
   ],
   "source": [
    "num = 5\n",
    "num2 = 12\n",
    "num3 = 20\n",
    "num4 = 15\n",
    "peso1 = 1\n",
    "peso2 = 2\n",
    "peso3 = 3\n",
    "peso4 = 4\n",
    "\n",
    "media_p = (num*peso1 + num2*peso2 + num3*peso3 + num4*peso4)/4\n",
    "\n",
    "print(f'A média ponderada dos valores {num}, {num2}, {num3} e {num4} com os respectivos pesos {peso1}, {peso2}, {peso3} e {peso4} é de {media_p}')"
   ]
  },
  {
   "cell_type": "markdown",
   "metadata": {
    "id": "GNmbX1OU8N0V"
   },
   "source": [
    "### Editando textos"
   ]
  },
  {
   "cell_type": "markdown",
   "metadata": {
    "id": "6wZ85mCsRCV0"
   },
   "source": [
    "#### Questão 1\n",
    "\n",
    "Crie uma variável chamada “`frase`” e atribua a ela uma string de sua escolha. Em seguida, imprima a frase na tela."
   ]
  },
  {
   "cell_type": "code",
   "execution_count": 19,
   "metadata": {
    "id": "eRqr_gh-8mFy"
   },
   "outputs": [
    {
     "name": "stdout",
     "output_type": "stream",
     "text": [
      "Espalha rama pelo chão.\n"
     ]
    }
   ],
   "source": [
    "frase = 'Espalha rama pelo chão.'\n",
    "\n",
    "print(frase)"
   ]
  },
  {
   "cell_type": "markdown",
   "metadata": {
    "id": "Aac17z-18Nwv"
   },
   "source": [
    "#### Questão 2\n",
    "Crie um código que solicite uma frase e depois imprima a frase na tela."
   ]
  },
  {
   "cell_type": "code",
   "execution_count": 20,
   "metadata": {
    "id": "8zfE2hh98lb0"
   },
   "outputs": [
    {
     "name": "stdout",
     "output_type": "stream",
     "text": [
      "A frase digitada foi: \"Essa metamorfose ambulante\"\n"
     ]
    }
   ],
   "source": [
    "frase = input('Digite uma frase')\n",
    "\n",
    "print(f'A frase digitada foi: \"{frase}\"')"
   ]
  },
  {
   "cell_type": "markdown",
   "metadata": {
    "id": "DXVzqpN58Ntr"
   },
   "source": [
    "#### Questão 3\n",
    "\n",
    "Crie um código que solicite uma frase à pessoa usuária e imprima a mesma frase digitada mas com todas as letras maiúsculas."
   ]
  },
  {
   "cell_type": "code",
   "execution_count": 21,
   "metadata": {
    "id": "d0VzoYP68k-I"
   },
   "outputs": [
    {
     "name": "stdout",
     "output_type": "stream",
     "text": [
      "A frase digitada foi: \"DO QUE TER AQUELA VELHA OPINIÃO\"\n"
     ]
    }
   ],
   "source": [
    "frase = input('Digite uma frase')\n",
    "\n",
    "print(f'A frase digitada foi: \"{frase.upper()}\"')"
   ]
  },
  {
   "cell_type": "markdown",
   "metadata": {
    "id": "I12VeNPK8Nqb"
   },
   "source": [
    "#### Questão 4\n",
    "\n",
    "Crie um código que solicite uma frase à pessoa usuária e imprima a mesma frase digitada mas com todas as letras minúsculas."
   ]
  },
  {
   "cell_type": "code",
   "execution_count": 22,
   "metadata": {
    "id": "KD8rNy2K8kox"
   },
   "outputs": [
    {
     "name": "stdout",
     "output_type": "stream",
     "text": [
      "A frase digitada foi: \"formada sobre tudo\"\n"
     ]
    }
   ],
   "source": [
    "frase = input('Digite uma frase')\n",
    "\n",
    "print(f'A frase digitada foi: \"{frase.lower()}\"')"
   ]
  },
  {
   "cell_type": "markdown",
   "metadata": {
    "id": "cRqngSE48Nog"
   },
   "source": [
    "#### Questão 5\n",
    "\n",
    "Crie uma variável chamada “`frase`” e atribua a ela uma string de sua escolha. Em seguida, imprima a frase sem espaços em branco no início e no fim."
   ]
  },
  {
   "cell_type": "code",
   "execution_count": 23,
   "metadata": {
    "id": "aSCpdF-o8kBs"
   },
   "outputs": [
    {
     "name": "stdout",
     "output_type": "stream",
     "text": [
      "Azuléazul,vermlehoévermelho\n"
     ]
    }
   ],
   "source": [
    "frase = ' Azul é azul, vermleho é vermelho '\n",
    "\n",
    "print(frase.replace(' ', ''))"
   ]
  },
  {
   "cell_type": "markdown",
   "metadata": {
    "id": "murIazpQ8Nkv"
   },
   "source": [
    "#### Questão 6\n",
    "\n",
    "Crie um código que solicite uma frase à pessoa usuária e imprima a mesma frase sem espaços em branco no início e no fim."
   ]
  },
  {
   "cell_type": "code",
   "execution_count": 24,
   "metadata": {
    "id": "tHunjwuG8jNq"
   },
   "outputs": [
    {
     "name": "stdout",
     "output_type": "stream",
     "text": [
      "Sua frase sem espaços: \"Sobreoqueéoamor\"\n"
     ]
    }
   ],
   "source": [
    "frase = input('Digite sua frase').replace(' ', '')\n",
    "\n",
    "print(f'Sua frase sem espaços: \"{frase}\"')"
   ]
  },
  {
   "cell_type": "markdown",
   "metadata": {
    "id": "eRxc2OeX8Nh2"
   },
   "source": [
    "#### Questão 7\n",
    "\n",
    "\n",
    "Crie um código que solicite uma frase à pessoa usuária e imprima a mesma frase sem espaços em branco no início e no fim e em letras minúsculas."
   ]
  },
  {
   "cell_type": "code",
   "execution_count": 25,
   "metadata": {
    "id": "DYm0_UwS8ih6"
   },
   "outputs": [
    {
     "name": "stdout",
     "output_type": "stream",
     "text": [
      "Sua frase sem espaços e tudo em minusculas: \"sobreoqueeunemseiquemsou\"\n"
     ]
    }
   ],
   "source": [
    "frase = input('Digite sua frase').replace(' ', '').lower()\n",
    "\n",
    "print(f'Sua frase sem espaços e tudo em minusculas: \"{frase}\"')"
   ]
  },
  {
   "cell_type": "markdown",
   "metadata": {
    "id": "UKATLavs8NfI"
   },
   "source": [
    "#### Questão 8\n",
    "\n",
    "Crie um código que solicite uma frase à pessoa usuária e imprima a mesma frase com todas as vogais “`e`” trocadas pela letra “`f`”."
   ]
  },
  {
   "cell_type": "code",
   "execution_count": 26,
   "metadata": {
    "id": "k64C5G5S8iLO"
   },
   "outputs": [
    {
     "name": "stdout",
     "output_type": "stream",
     "text": [
      "Sua frase com as letras \"e\" trocadas por \"f\": \"Sf hojf fu sou fstrfla\"\n"
     ]
    }
   ],
   "source": [
    "frase = input('Digite sua frase').replace('e', 'f').replace('E','F')\n",
    "\n",
    "print(f'Sua frase com as letras \"e\" trocadas por \"f\": \"{frase}\"')"
   ]
  },
  {
   "cell_type": "markdown",
   "metadata": {
    "id": "n_1SPchw8NdG"
   },
   "source": [
    "#### Questão 9\n",
    "\n",
    "\n",
    "Crie um código que solicite uma frase à pessoa usuária e imprima a mesma frase com todas as vogais “`a`” trocadas pela caractere  “`@`”."
   ]
  },
  {
   "cell_type": "code",
   "execution_count": 27,
   "metadata": {
    "id": "msaDNm_p8h0D"
   },
   "outputs": [
    {
     "name": "stdout",
     "output_type": "stream",
     "text": [
      "Sua frase com as letras \"a\" trocadas por \"@\": \"@m@nhã já se @p@gou\"\n"
     ]
    }
   ],
   "source": [
    "frase = input('Digite sua frase').replace('a', '@').replace('A','@')\n",
    "\n",
    "print(f'Sua frase com as letras \"a\" trocadas por \"@\": \"{frase}\"')"
   ]
  },
  {
   "cell_type": "markdown",
   "metadata": {
    "id": "H3sTTjqI8Naa"
   },
   "source": [
    "#### Questão 10\n",
    "\n",
    "\n",
    "Crie um código que solicite uma frase à pessoa usuária e imprima a mesma frase com todas as consoantes “`s`” trocadas pelo caractere  “`$`”."
   ]
  },
  {
   "cell_type": "code",
   "execution_count": 28,
   "metadata": {
    "id": "RPBIsWT68e-1"
   },
   "outputs": [
    {
     "name": "stdout",
     "output_type": "stream",
     "text": [
      "Sua frase com as letras \"s\" trocadas por \"$\": \"$e hoje eu lhe odeio\"\n"
     ]
    }
   ],
   "source": [
    "frase = input('Digite sua frase').replace('s', '$').replace('S','$')\n",
    "\n",
    "print(f'Sua frase com as letras \"s\" trocadas por \"$\": \"{frase}\"')"
   ]
  },
  {
   "cell_type": "markdown",
   "metadata": {
    "id": "XGePe4GD2I59"
   },
   "source": [
    "## Aula 3 - Estruturas condicionais"
   ]
  },
  {
   "cell_type": "markdown",
   "metadata": {
    "id": "Pr9HTW0UHCdD"
   },
   "source": [
    "### Aquecendo na programação"
   ]
  },
  {
   "cell_type": "markdown",
   "metadata": {
    "id": "xBZHqhVg80Fy"
   },
   "source": [
    "#### Questão 1\n",
    "Escreva um programa que peça à pessoa usuária para fornecer dois números e exibir o número maior."
   ]
  },
  {
   "cell_type": "code",
   "execution_count": 273,
   "metadata": {
    "id": "GJlGnzjc-xyF"
   },
   "outputs": [
    {
     "name": "stdout",
     "output_type": "stream",
     "text": [
      "Comparação de números\n",
      "Número 1: 27.0\n",
      "Número 2: 27.0\n",
      "\n",
      "Os dois números são iguais.\n"
     ]
    }
   ],
   "source": [
    "print('Comparação de números')\n",
    "\n",
    "num = float(input('digite o primeiro número'))\n",
    "print(f'Número 1: {num}')\n",
    "\n",
    "num2 = float(input('digite o segundo número'))\n",
    "print(f'Número 2: {num2}')\n",
    "\n",
    "if num > num2:\n",
    "    print(f'\\nO maior número é {num}')\n",
    "elif num2 > num:\n",
    "    print(f'\\nO maior número é {num2}')\n",
    "else:\n",
    "    print('\\nOs dois números são iguais.')"
   ]
  },
  {
   "cell_type": "markdown",
   "metadata": {
    "id": "H4sgN7dyHNJF"
   },
   "source": [
    "#### Questão 2\n",
    "Escreva um programa que solicite o percentual de crescimento de produção de uma empresa e informe se houve um crescimento (porcentagem positiva) ou decrescimento (porcentagem negativa)."
   ]
  },
  {
   "cell_type": "code",
   "execution_count": null,
   "metadata": {
    "id": "-2_Ry5XJ-yZW"
   },
   "outputs": [
    {
     "name": "stdout",
     "output_type": "stream",
     "text": [
      "Crescimento de produção\n",
      "Percentual de crescimento: 15.0\n",
      "\n",
      "Segundo o percentual informado houve um cresimento de 15.0%\n"
     ]
    }
   ],
   "source": [
    "print('Crescimento de produção')\n",
    "\n",
    "num = float(input('Digite o valor percentual de crescimento'))\n",
    "print(f'Percentual de crescimento: {num}\\n')\n",
    "\n",
    "if num > 0:\n",
    "    print(f'Segundo o percentual informado houve um cresimento de {num}%')\n",
    "elif num < 0:\n",
    "    print(f'Segundo o percentual informado houve um decresimento de {num}%')\n",
    "else:\n",
    "    print('Não houve crescimento de produção')"
   ]
  },
  {
   "cell_type": "markdown",
   "metadata": {
    "id": "a_mzNOBDHNny"
   },
   "source": [
    "#### Questão 3\n",
    "Escreva um programa que determine se uma letra fornecida pela pessoa usuária é uma vogal ou consoante."
   ]
  },
  {
   "cell_type": "code",
   "execution_count": 31,
   "metadata": {
    "id": "NbgndVyg-zFJ"
   },
   "outputs": [
    {
     "name": "stdout",
     "output_type": "stream",
     "text": [
      "Letra digitada: a\n",
      "\n",
      "A letra \"a\" é uma vogal\n"
     ]
    }
   ],
   "source": [
    "letra = input('Digite uma letra')\n",
    "\n",
    "print(f'Letra digitada: {letra}\\n')\n",
    "\n",
    "vogais = ['a','e','i','o','u','A','E','I','O','U']\n",
    "\n",
    "if letra in vogais:\n",
    "    print(f'A letra \"{letra}\" é uma vogal')\n",
    "else:\n",
    "    print(f'A letra {letra} é uma consoante')"
   ]
  },
  {
   "cell_type": "markdown",
   "metadata": {
    "id": "mofMRjSZHP99"
   },
   "source": [
    "#### Questão 4\n",
    "Escreva um programa que leia valores médios de preços de um modelo de carro por 3 anos consecutivos e exiba o valor mais alto e mais baixo entre esses três anos."
   ]
  },
  {
   "cell_type": "code",
   "execution_count": 32,
   "metadata": {
    "id": "TX--d3k9-02c"
   },
   "outputs": [
    {
     "name": "stdout",
     "output_type": "stream",
     "text": [
      "Preço médio do carro\n",
      "Ano 1: 89000.0\n",
      "Ano 2: 78999.99\n",
      "Ano 3: 82000.0\n",
      "\n",
      "Maior valor está presente no Ano 1 com o valor de 89000.0\n",
      "E o menor valor está presente no Ano 2 com o valor de 78999.99\n"
     ]
    }
   ],
   "source": [
    "ano1_val = float(input('Digite o valor médio do carro no primeiro ano'))\n",
    "ano2_val = float(input('Digite o valor médio do carro do segundo ano'))\n",
    "ano3_val = float(input('Digite o valor médio do carro do terceiro ano'))\n",
    "\n",
    "print(f'Preço médio do carro\\nAno 1: {ano1_val}\\nAno 2: {ano2_val}\\nAno 3: {ano3_val}\\n')\n",
    "\n",
    "if ano1_val > ano2_val and ano1_val > ano3_val:\n",
    "    print(f'Maior valor está presente no Ano 1 com o valor de {ano1_val}')\n",
    "elif ano2_val > ano3_val and ano2_val > ano3_val:\n",
    "    print(f'Maior valor está presente no Ano 2 com o valor de {ano2_val}')\n",
    "else:\n",
    "    print(f'Maior valor está presente no Ano 3 com o valor de {ano3_val}')\n",
    "\n",
    "if ano1_val < ano2_val and ano1_val < ano3_val:\n",
    "    print(f'E o menor valor está presente no Ano 1 com o valor de {ano1_val}')\n",
    "elif ano2_val < ano3_val and ano2_val < ano3_val:\n",
    "    print(f'E o menor valor está presente no Ano 2 com o valor de {ano2_val}')\n",
    "else:\n",
    "    print(f'E o menor valor está presente no Ano 3 com o valor de {ano3_val}')\n"
   ]
  },
  {
   "cell_type": "markdown",
   "metadata": {
    "id": "jY5tIwd-HQzc"
   },
   "source": [
    "#### Questão 5\n",
    "Escreva um programa que pergunte sobre o preço de três produtos e indique qual é o produto mais barato para comprar."
   ]
  },
  {
   "cell_type": "code",
   "execution_count": 33,
   "metadata": {
    "id": "sYqNh9df-0gk"
   },
   "outputs": [
    {
     "name": "stdout",
     "output_type": "stream",
     "text": [
      "Preço do produto 1: 15.5\n",
      "Produto 2: 12.75\n",
      "Produto 3: 11.8\n",
      "\n",
      "O preço mais baixo é do produto 3 11.8\n"
     ]
    }
   ],
   "source": [
    "prod1_val = float(input('Digite o preço do primeiro produto'))\n",
    "prod2_val = float(input('Digite o preço do segundo produto'))\n",
    "prod3_val = float(input('Digite o preço do terceiro produto'))\n",
    "\n",
    "print(f'Preço do produto 1: {prod1_val}\\nProduto 2: {prod2_val}\\nProduto 3: {prod3_val}\\n')\n",
    "\n",
    "if prod1_val < prod2_val and prod1_val < prod3_val:\n",
    "    print(f'O preço mais baixo é do produto 1 {prod1_val}')\n",
    "elif prod2_val < prod3_val and prod2_val < prod3_val:\n",
    "    print(f'O preço mais baixo é do produto 2 {prod2_val}')\n",
    "else:\n",
    "    print(f'O preço mais baixo é do produto 3 {prod3_val}')"
   ]
  },
  {
   "cell_type": "markdown",
   "metadata": {
    "id": "1r6aVxtTHR4E"
   },
   "source": [
    "#### Questão 6\n",
    "Escreva um programa que leia três números e os exiba em ordem decrescente."
   ]
  },
  {
   "cell_type": "code",
   "execution_count": null,
   "metadata": {
    "id": "ydOCYUMO-0Hk"
   },
   "outputs": [
    {
     "name": "stdout",
     "output_type": "stream",
     "text": [
      "Ordenção decresente\n",
      "Números digitados: 2, 1 e 3\n",
      "\n",
      "Ordenados de modo decresente: \n",
      "3\n",
      "2\n",
      "1\n"
     ]
    }
   ],
   "source": [
    "print('Ordenção decresente')\n",
    "num = int(input('Digite o primeiro número'))\n",
    "num2 = int(input('Digite o segundo número'))\n",
    "num3 = int(input('Digite o terceiro número'))\n",
    "\n",
    "ord1, ord2, ord3 = num, num2, num3\n",
    "\n",
    "print(f'Números digitados: {num}, {num2} e {num3}\\n')\n",
    "\n",
    "if ord1 > ord2:\n",
    "    ord1, ord2 = ord2, ord1\n",
    "if ord1 > ord3:\n",
    "    ord1, ord3 = ord3, ord1\n",
    "if ord2 > ord3:\n",
    "    ord2, ord3 = ord3, ord2\n",
    "\n",
    "print('Ordenados de modo decresente: ')\n",
    "print(f'{ord3}\\n{ord2}\\n{ord1}')"
   ]
  },
  {
   "cell_type": "markdown",
   "metadata": {
    "id": "inW3F-hAHS_X"
   },
   "source": [
    "#### Questão 7\n",
    "Escreva um programa que pergunte em qual turno a pessoa usuária estuda (\"manhã\", \"tarde\" ou \"noite\") e exiba a mensagem \"Bom Dia!\", \"Boa Tarde!\", \"Boa Noite!\", ou \"Valor Inválido!\", conforme o caso."
   ]
  },
  {
   "cell_type": "code",
   "execution_count": 35,
   "metadata": {
    "id": "-_q-Pcr_-zth"
   },
   "outputs": [
    {
     "name": "stdout",
     "output_type": "stream",
     "text": [
      "Boa tarde\n"
     ]
    }
   ],
   "source": [
    "turno = input('Você estuda no turno da manhã, da tarde, ou da noite')\n",
    "\n",
    "if turno.lower() == 'manhã':\n",
    "    print('Bom dia')\n",
    "elif turno.lower() == 'tarde':\n",
    "    print('Boa tarde')\n",
    "elif turno.lower() == 'noite':\n",
    "    print('Boa noite')\n",
    "else:\n",
    "    print('Turno inválido/Não identificado')"
   ]
  },
  {
   "cell_type": "markdown",
   "metadata": {
    "id": "NCCPF3QqHTw-"
   },
   "source": [
    "#### Questão 8\n",
    "Escreva um programa que peça um número inteiro à pessoa usuária e determine se ele é par ou ímpar. Dica: Você pode utilizar o operador módulo `%`."
   ]
  },
  {
   "cell_type": "code",
   "execution_count": 36,
   "metadata": {
    "id": "OmZJt1nQ-3e6"
   },
   "outputs": [
    {
     "name": "stdout",
     "output_type": "stream",
     "text": [
      "Número escolhido: 5\n",
      "O número 5 é ímpar\n"
     ]
    }
   ],
   "source": [
    "num = int(input('Digite um número inteiro'))\n",
    "\n",
    "print(f'Número escolhido: {num}')\n",
    "\n",
    "if num % 2 == 0:\n",
    "    print(f'O número {num} é par')\n",
    "else:\n",
    "    print(f'O número {num} é ímpar')"
   ]
  },
  {
   "cell_type": "markdown",
   "metadata": {
    "id": "h93Ck1tQHUwE"
   },
   "source": [
    "#### Questão 9\n",
    "Escreva um programa que peça um número à pessoa usuária e informe se ele é inteiro ou decimal."
   ]
  },
  {
   "cell_type": "code",
   "execution_count": 280,
   "metadata": {
    "id": "sLMlZcx8-20N"
   },
   "outputs": [
    {
     "name": "stdout",
     "output_type": "stream",
     "text": [
      "Número digitado: 8.0\n",
      "O número digitado é um inteiro\n"
     ]
    }
   ],
   "source": [
    "num = float(input('Digite um número com ou sem decimais'))\n",
    "\n",
    "print(f'Número digitado: {num}')\n",
    "\n",
    "if num % 1 > 0:\n",
    "    print('O número digitado contém decimal')\n",
    "else:\n",
    "    print('O número digitado é um inteiro')\n"
   ]
  },
  {
   "cell_type": "markdown",
   "metadata": {
    "id": "bKdXSK1SH_pF"
   },
   "source": [
    "### Momento dos projetos"
   ]
  },
  {
   "cell_type": "markdown",
   "metadata": {
    "id": "WBlEyyzsHV86"
   },
   "source": [
    "#### Questão 10\n",
    "Um programa deve ser escrito para ler dois números e, em seguida, perguntar à pessoa usuária qual operação ele deseja realizar. O resultado da operação deve incluir informações sobre o número - se é par ou ímpar, positivo ou negativo e inteiro ou decimal."
   ]
  },
  {
   "cell_type": "code",
   "execution_count": null,
   "metadata": {
    "id": "3jmahZ0f-2gq"
   },
   "outputs": [
    {
     "name": "stdout",
     "output_type": "stream",
     "text": [
      "Números escolhidos: 2.31 e -1.258\n",
      "Operação: Multiplicação\n",
      "A operação de multiplicação resultou no número -2.91 que é um número negativo, ímpar e decimal\n"
     ]
    }
   ],
   "source": [
    "num = float(input('Digite o primeiro número'))\n",
    "num2 = float(input('Digite o segundo número'))\n",
    "\n",
    "oper = input('Digite qual operação deseja realizar (Adição, Subtração, Divisão ou Multiplicação)')\n",
    "\n",
    "while oper.lower() not in ['adição', 'subtração', 'divisão', 'multiplicação','+','-','*','/']:\n",
    "    oper = input('Escolha uma das quatro operações disponíveis: Adição, Subtração, Divisão ou Multiplicação')\n",
    "    \n",
    "print(f'Números escolhidos: {num} e {num2}\\nOperação: {oper}')\n",
    "\n",
    "#Realizando a operação\n",
    "if oper.lower() == 'adição':\n",
    "    result = round(num + num2,2)\n",
    "elif oper.lower() == 'subtração':\n",
    "    result = round(num - num2,2)\n",
    "elif oper.lower() == 'divisão':\n",
    "    result = round(num / num2,2)\n",
    "elif oper.lower() == 'multiplicação':\n",
    "    result = round(num * num2,2)\n",
    "\n",
    "#Definindo se é par ou ímpar\n",
    "if result % 2 == 0:\n",
    "    tipo = 'par'\n",
    "else:\n",
    "    tipo = 'ímpar'\n",
    "\n",
    "#Definindo se é negativo ou positivo\n",
    "if result < 0:\n",
    "    sinal = 'negativo'\n",
    "else:\n",
    "    sinal = 'positivo'\n",
    "\n",
    "#Definindo se é inteiro ou decimal\n",
    "if result % 1 > 0:\n",
    "    decint = 'decimal'\n",
    "else:\n",
    "    decint = 'inteiro'\n",
    "\n",
    "\n",
    "print(f'A operação de {oper.lower()} resultou no número {result} que é um número {sinal}, {tipo} e {decint}')"
   ]
  },
  {
   "cell_type": "markdown",
   "metadata": {
    "id": "VdnlULxHHW19"
   },
   "source": [
    "#### Questão 11\n",
    "Escreva um programa que peça à pessoa usuária três números que representam os lados de um triângulo. O programa deve informar se os valores podem ser utilizados para formar um triângulo e, caso afirmativo, se ele é equilátero, isósceles ou escaleno. Tenha em mente algumas dicas:\n",
    "- Três lados formam um triângulo quando a soma de quaisquer dois lados for maior que o terceiro;\n",
    "- Triângulo Equilátero: três lados iguais;\n",
    "- Triângulo Isósceles: quaisquer dois lados iguais;\n",
    "- Triângulo Escaleno: três lados diferentes;\n"
   ]
  },
  {
   "cell_type": "code",
   "execution_count": 67,
   "metadata": {
    "id": "0z73sqUO-2Pw"
   },
   "outputs": [
    {
     "name": "stdout",
     "output_type": "stream",
     "text": [
      "Lados escolhidos para o triângulo:\n",
      "A: 2.0\n",
      "B: 3.0\n",
      "C: 5.0\n",
      "\n",
      "Triângulo Escaleno\n"
     ]
    }
   ],
   "source": [
    "ladoA = float(input('Digite o tamanho do lado a de um triângulo'))\n",
    "ladoB = float(input('Digite o tamanho do lado b de um triângulo'))\n",
    "ladoC = float(input('Digite o tamanho do lado c de um triângulo'))\n",
    "\n",
    "print(f'Lados escolhidos para o triângulo:\\nA: {ladoA}\\nB: {ladoB}\\nC: {ladoC}\\n')\n",
    "\n",
    "#Verificando se é um triangulo\n",
    "if ladoA+ladoB < ladoC or ladoA+ladoC < ladoB or ladoC+ladoB < ladoA:\n",
    "    print('Não é possível gerar um triângulo com as medidas informadas')\n",
    "elif ladoA==ladoB==ladoC:\n",
    "    print('Este é um triângulo Equilátero')\n",
    "elif ladoA==ladoB or ladoA==ladoC or ladoB==ladoC:\n",
    "    print('Este triângulo é Isósceles')\n",
    "else:\n",
    "    print('Triângulo Escaleno')\n"
   ]
  },
  {
   "cell_type": "markdown",
   "metadata": {
    "id": "_PpEpOugHXwZ"
   },
   "source": [
    "#### Questão 12\n",
    "Um estabelecimento está vendendo combustíveis com descontos variados. Para o etanol, se a quantidade comprada for até 15 litros, o desconto será de 2% por litro. Caso contrário, será de 4% por litro. Para o diesel, se a quantidade comprada for até 15 litros, o desconto será de 3% por litro. Caso contrário, será de 5% por litro. O preço do litro de diesel é R\\$ 2,00 e o preço do litro de etanol é R\\$ 1,70. Escreva um programa que leia a quantidade de litros vendidos e o tipo de combustível (E para etanol e D para diesel) e calcule o valor a ser pago pelo cliente. Tenha em mente algumas dicas:\n",
    "\n",
    "- O do valor do desconto será a multiplicação entre preço do litro, quantidade de litros e o valor do desconto.\n",
    "- O valor a ser pago por um cliente será o resultado da multiplicação do preço do litro pela quantidade de litros menos o valor de desconto resultante do cálculo.\n"
   ]
  },
  {
   "cell_type": "code",
   "execution_count": 76,
   "metadata": {
    "id": "9izoF-0O-1yD"
   },
   "outputs": [
    {
     "name": "stdout",
     "output_type": "stream",
     "text": [
      "Dados do abastecimento\n",
      "Combustível: (D) Diesel\n",
      "Litros: 23.486\n",
      "Valor Bruto: 46.97\n",
      "Total Desconto (5%/L): 2.35\n",
      "\n",
      "Total à Pagar: 44.62\n"
     ]
    }
   ],
   "source": [
    "combustivel = input('Escolha o tipo de combustível, (E) Etanol ou (D) Diesel.')\n",
    "\n",
    "preco_E = 1.70\n",
    "preco_D = 2.00\n",
    "\n",
    "desc_E15 = 2/100\n",
    "desc_E = 4/100\n",
    "desc_D15 = 3/100\n",
    "desc_D = 5/100\n",
    "\n",
    "while combustivel not in ['E','D']:\n",
    "    combustivel = input('Escolha entre (E) Etanol ou (D) Diesel.')\n",
    "\n",
    "litro = float(input('Digite a quantidade de litros abastecido'))\n",
    "\n",
    "print('Dados do abastecimento')\n",
    "if combustivel == 'E':\n",
    "    valorT = litro * preco_E\n",
    "    print(f'Combustível: ({combustivel}) Etanol')\n",
    "    if litro <= 15:\n",
    "        val_desc = litro * preco_E * desc_E15\n",
    "        desc = desc_E15*100\n",
    "    else:\n",
    "        val_desc = litro * preco_E * desc_E\n",
    "        desc = desc_E*100\n",
    "else:\n",
    "    valorT = litro * preco_D\n",
    "    print(f'Combustível: ({combustivel}) Diesel')\n",
    "    if litro <= 15:\n",
    "        val_desc = litro * preco_D * desc_D15\n",
    "        desc = desc_D15*100\n",
    "    else:\n",
    "        val_desc = litro * preco_D * desc_D\n",
    "        desc = desc_D*100\n",
    "\n",
    "print(f'Litros: {litro:.3f}')\n",
    "\n",
    "print(f'Valor Bruto: {valorT:.2f}\\nTotal Desconto ({desc:.0f}%/L): {val_desc:.2f}\\n\\nTotal à Pagar: {valorT-val_desc:.2f}')"
   ]
  },
  {
   "cell_type": "markdown",
   "metadata": {
    "id": "s_XS_D1WHY2R"
   },
   "source": [
    "#### Questão 13\n",
    "Em uma empresa de venda de imóveis você precisa criar um código que analise os dados de vendas anuais para ajudar a diretoria na tomada de decisão. O código precisa coletar os dados de quantidade de venda durante os anos de 2022 e 2023 e fazer um cálculo de variação percentual. A partir do valor da variação, deve ser enviada às seguintes sugestões:\n",
    "- Para variação acima de 20%: bonificação para o time de vendas.\n",
    "- Para variação entre 2% e 20%: pequena bonificação para time de vendas.\n",
    "- Para variação entre 2% e -10%: planejamento de políticas de incentivo às vendas.\n",
    "- Para bonificações abaixo de -10%: corte de gastos.\n"
   ]
  },
  {
   "cell_type": "code",
   "execution_count": 93,
   "metadata": {
    "id": "avQrYlUg-w8f"
   },
   "outputs": [
    {
     "name": "stdout",
     "output_type": "stream",
     "text": [
      "Quantidade de Vendas\n",
      "2022: 15000\n",
      "2023: 13200\n",
      "\n",
      "A variação foi de -12.00%\n",
      "Corte de Gastos\n"
     ]
    }
   ],
   "source": [
    "inicial = int(input('Digite a quantidade de vendas realizadas em 2022'))\n",
    "final = int(input('Digite a quantidade de vendas realizadas em 2023'))\n",
    "\n",
    "print(f'Quantidade de Vendas\\n2022: {inicial}\\n2023: {final}\\n')\n",
    "\n",
    "variacao = ((final-inicial)/inicial)*100\n",
    "\n",
    "print(f'A variação foi de {variacao:.2f}%')\n",
    "\n",
    "if variacao >= 20:\n",
    "    print('Bonificação para o time de vendas')\n",
    "elif variacao >= 2:\n",
    "    print('Pequena bonificação para o time de vendas')\n",
    "elif variacao >= -10:\n",
    "    print('Planejamento de políticas de icentivo às vendas')\n",
    "else:\n",
    "    print('Corte de Gastos')"
   ]
  },
  {
   "cell_type": "markdown",
   "metadata": {
    "id": "AuaWh4-d2Itt"
   },
   "source": [
    "## Aula 4 - Estruturas de repetição"
   ]
  },
  {
   "cell_type": "markdown",
   "metadata": {
    "id": "6MSqU0sIJRdD"
   },
   "source": [
    "### Aquecendo na programação"
   ]
  },
  {
   "cell_type": "markdown",
   "metadata": {
    "id": "9eGGyCnAJRdQ"
   },
   "source": [
    "#### Questão 1\n",
    "Escreva um programa que peça dois números inteiros e imprima todos os números inteiros entre eles."
   ]
  },
  {
   "cell_type": "code",
   "execution_count": 232,
   "metadata": {
    "id": "ID1oc1hxJRdQ"
   },
   "outputs": [
    {
     "name": "stdout",
     "output_type": "stream",
     "text": [
      "Os números escolhidos foram: 5 e 6\n",
      "Não existem números entre 5 e 6\n"
     ]
    }
   ],
   "source": [
    "num = int(input('Digite um número inteiro'))\n",
    "num2 = int(input('Digite outro número inteiro'))\n",
    "\n",
    "print(f'Os números escolhidos foram: {num} e {num2}')\n",
    "\n",
    "if num > num2:\n",
    "    num,num2 = num2,num\n",
    "\n",
    "if num2-num-1 == 0:\n",
    "    print(f'Não existem números entre {num} e {num2}')\n",
    "else:\n",
    "    print(f'Os {num2-num-1} números entre {num} e {num2}:')\n",
    "    for num in range(num+1,num2):\n",
    "        print(num)\n",
    "\n",
    "# print('\\nCom while:')\n",
    "# #utilizando While\n",
    "# while num1 < num2-1:\n",
    "#     num1 += 1\n",
    "#     print(num1)"
   ]
  },
  {
   "cell_type": "markdown",
   "metadata": {
    "id": "mGonEHYCJRdR"
   },
   "source": [
    "#### Questão 2\n",
    "Escreva um programa para calcular quantos dias levará para a colônia de uma bactéria A ultrapassar ou igualar a colônia de uma bactéria B, com base nas taxas de crescimento de 3% e 1,5% respectivamente. Considere que a colônia A inicia com 4 elementos e a colônia B com 10 elementos."
   ]
  },
  {
   "cell_type": "code",
   "execution_count": null,
   "metadata": {
    "id": "wM6FJuoqJRdR"
   },
   "outputs": [
    {
     "name": "stdout",
     "output_type": "stream",
     "text": [
      "Dia 1\tColônia A: 4.12\tColônia B: 10.15\n",
      "Dia 2\tColônia A: 4.24\tColônia B: 10.30\n",
      "Dia 3\tColônia A: 4.37\tColônia B: 10.46\n",
      "Dia 4\tColônia A: 4.50\tColônia B: 10.61\n",
      "Dia 5\tColônia A: 4.64\tColônia B: 10.77\n",
      "Dia 6\tColônia A: 4.78\tColônia B: 10.93\n",
      "Dia 7\tColônia A: 4.92\tColônia B: 11.10\n",
      "Dia 8\tColônia A: 5.07\tColônia B: 11.26\n",
      "Dia 9\tColônia A: 5.22\tColônia B: 11.43\n",
      "Dia 10\tColônia A: 5.38\tColônia B: 11.61\n",
      "Dia 11\tColônia A: 5.54\tColônia B: 11.78\n",
      "Dia 12\tColônia A: 5.70\tColônia B: 11.96\n",
      "Dia 13\tColônia A: 5.87\tColônia B: 12.14\n",
      "Dia 14\tColônia A: 6.05\tColônia B: 12.32\n",
      "Dia 15\tColônia A: 6.23\tColônia B: 12.50\n",
      "Dia 16\tColônia A: 6.42\tColônia B: 12.69\n",
      "Dia 17\tColônia A: 6.61\tColônia B: 12.88\n",
      "Dia 18\tColônia A: 6.81\tColônia B: 13.07\n",
      "Dia 19\tColônia A: 7.01\tColônia B: 13.27\n",
      "Dia 20\tColônia A: 7.22\tColônia B: 13.47\n",
      "Dia 21\tColônia A: 7.44\tColônia B: 13.67\n",
      "Dia 22\tColônia A: 7.66\tColônia B: 13.88\n",
      "Dia 23\tColônia A: 7.89\tColônia B: 14.08\n",
      "Dia 24\tColônia A: 8.13\tColônia B: 14.30\n",
      "Dia 25\tColônia A: 8.38\tColônia B: 14.51\n",
      "Dia 26\tColônia A: 8.63\tColônia B: 14.73\n",
      "Dia 27\tColônia A: 8.89\tColônia B: 14.95\n",
      "Dia 28\tColônia A: 9.15\tColônia B: 15.17\n",
      "Dia 29\tColônia A: 9.43\tColônia B: 15.40\n",
      "Dia 30\tColônia A: 9.71\tColônia B: 15.63\n",
      "Dia 31\tColônia A: 10.00\tColônia B: 15.87\n",
      "Dia 32\tColônia A: 10.30\tColônia B: 16.10\n",
      "Dia 33\tColônia A: 10.61\tColônia B: 16.34\n",
      "Dia 34\tColônia A: 10.93\tColônia B: 16.59\n",
      "Dia 35\tColônia A: 11.26\tColônia B: 16.84\n",
      "Dia 36\tColônia A: 11.59\tColônia B: 17.09\n",
      "Dia 37\tColônia A: 11.94\tColônia B: 17.35\n",
      "Dia 38\tColônia A: 12.30\tColônia B: 17.61\n",
      "Dia 39\tColônia A: 12.67\tColônia B: 17.87\n",
      "Dia 40\tColônia A: 13.05\tColônia B: 18.14\n",
      "Dia 41\tColônia A: 13.44\tColônia B: 18.41\n",
      "Dia 42\tColônia A: 13.84\tColônia B: 18.69\n",
      "Dia 43\tColônia A: 14.26\tColônia B: 18.97\n",
      "Dia 44\tColônia A: 14.69\tColônia B: 19.25\n",
      "Dia 45\tColônia A: 15.13\tColônia B: 19.54\n",
      "Dia 46\tColônia A: 15.58\tColônia B: 19.84\n",
      "Dia 47\tColônia A: 16.05\tColônia B: 20.13\n",
      "Dia 48\tColônia A: 16.53\tColônia B: 20.43\n",
      "Dia 49\tColônia A: 17.02\tColônia B: 20.74\n",
      "Dia 50\tColônia A: 17.54\tColônia B: 21.05\n",
      "Dia 51\tColônia A: 18.06\tColônia B: 21.37\n",
      "Dia 52\tColônia A: 18.60\tColônia B: 21.69\n",
      "Dia 53\tColônia A: 19.16\tColônia B: 22.01\n",
      "Dia 54\tColônia A: 19.74\tColônia B: 22.34\n",
      "Dia 55\tColônia A: 20.33\tColônia B: 22.68\n",
      "Dia 56\tColônia A: 20.94\tColônia B: 23.02\n",
      "Dia 57\tColônia A: 21.57\tColônia B: 23.36\n",
      "Dia 58\tColônia A: 22.21\tColônia B: 23.72\n",
      "Dia 59\tColônia A: 22.88\tColônia B: 24.07\n",
      "Dia 60\tColônia A: 23.57\tColônia B: 24.43\n",
      "Dia 61\tColônia A: 24.27\tColônia B: 24.80\n",
      "Dia 62\tColônia A: 25.00\tColônia B: 25.17\n",
      "Dia 63\tColônia A: 25.75\tColônia B: 25.55\n",
      "No 63º dia a colônia A com 25.75 elementos alcançou a colônia B que estava com 25.55 elementos.\n"
     ]
    }
   ],
   "source": [
    "colA = 4\n",
    "colB = 10\n",
    "crescA = 0.03\n",
    "crescB = 0.015\n",
    "\n",
    "dia = 0\n",
    "\n",
    "while colA < colB:\n",
    "    dia += 1\n",
    "    colA += crescA*colA\n",
    "    colB += crescB*colB\n",
    "\n",
    "    print(f'Dia {dia}\\tColônia A: {colA:.2f}\\tColônia B: {colB:.2f}')\n",
    "\n",
    "print(f'\\nNo {dia}º dia a colônia A com {colA:.2f} elementos alcançou a colônia B que estava com {colB:.2f} elementos.')"
   ]
  },
  {
   "cell_type": "markdown",
   "metadata": {
    "id": "UiOZRlqoJRdR"
   },
   "source": [
    "#### Questão 3\n",
    "Para tratar uma quantidade de 15 dados de avaliações de pessoas usuárias de um serviço da empresa, precisamos verificar se as notas são válidas. Então, escreva um programa que vai receber a nota de 0 a 5 de todos os dados e verificar se é um valor válido. Caso seja inserido uma nota acima de 5 ou abaixo de 0, repita até que a pessoa usuária insira um valor válido."
   ]
  },
  {
   "cell_type": "code",
   "execution_count": null,
   "metadata": {
    "id": "3TUAhCxcJRdR"
   },
   "outputs": [
    {
     "name": "stdout",
     "output_type": "stream",
     "text": [
      "Dado: 1 - Nota: 1\n",
      "Dado: 2 - Nota: 2\n",
      "Dado: 3 - Nota: 3\n",
      "Dado: 4 - Nota: 4\n",
      "Dado: 5 - Nota: 5\n",
      "Dado: 6 - Nota: 3\n",
      "Dado: 7 - Nota: 2\n",
      "Dado: 8 - Nota: 5\n",
      "Dado: 9 - Nota: 1\n",
      "Dado: 10 - Nota: 4\n",
      "Dado: 11 - Nota: 2\n",
      "Dado: 12 - Nota: 1\n",
      "Dado: 13 - Nota: 3\n",
      "Dado: 14 - Nota: 5\n",
      "Dado: 15 - Nota: 2\n"
     ]
    }
   ],
   "source": [
    "for dado in range(1,16):\n",
    "\n",
    "    nota = int(input(f'Dado {dado}. Digite a nota de 0 a 5'))\n",
    "\n",
    "    while nota > 5 or nota < 0:\n",
    "        nota = int(input(f'Dado {dado}. Digite a nota de 0 a 5'))\n",
    "\n",
    "    print(f'Dado {dado} - Nota: {nota}')\n",
    "\n",
    "\n",
    "\n"
   ]
  },
  {
   "cell_type": "markdown",
   "metadata": {
    "id": "ABv3KObGJRdR"
   },
   "source": [
    "#### Questão 4\n",
    "Desenvolva um programa que leia um conjunto indeterminado de temperaturas em Celsius e faça uma análise. Portanto, escreva um programa que leia temperaturas e informe a média delas. A leitura deve ser encerrada ao ser enviado o valor -273°C."
   ]
  },
  {
   "cell_type": "code",
   "execution_count": 237,
   "metadata": {
    "id": "85tBBj5KJRdS"
   },
   "outputs": [
    {
     "name": "stdout",
     "output_type": "stream",
     "text": [
      "Temperatura 1: 5.0°C\n",
      "Temperatura 2: 10.0°C\tMédia atual: 7.5\n",
      "Temperatura 3: 20.0°C\tMédia atual: 11.7\n",
      "Temperatura 4: 16.0°C\tMédia atual: 12.8\n"
     ]
    }
   ],
   "source": [
    "temp = float(input('Digite o valor da temperatura'))\n",
    "tempT = temp\n",
    "i = 1\n",
    "\n",
    "print(f'Temperatura {i}: {temp:.1f}°C')\n",
    "\n",
    "while temp != -273:\n",
    "    temp = float(input('Digite o valor da temperatura'))\n",
    "    if temp == -273:\n",
    "        break\n",
    "    tempT += temp\n",
    "    i += 1\n",
    "    avg = tempT/i\n",
    "    print(f'Temperatura {i}: {temp:.1f}°C\\tMédia atual: {avg:.1f}')\n",
    "\n"
   ]
  },
  {
   "cell_type": "markdown",
   "metadata": {
    "id": "IjkbAfGcJRdS"
   },
   "source": [
    "#### Questão 5\n",
    "Escreva um programa que calcule o fatorial de um número inteiro fornecido pela pessoa usuária. O fatorial de um número inteiro é a multiplicação desse número por todos os seus antecessores até o número 1. Por exemplo, o fatorial de 5 é 5 x 4 x 3 x 2 x 1 = 120."
   ]
  },
  {
   "cell_type": "code",
   "execution_count": 168,
   "metadata": {
    "id": "7RTH8o0HJRdS"
   },
   "outputs": [
    {
     "name": "stdout",
     "output_type": "stream",
     "text": [
      "Número escolhido 10\n",
      "10! = 10 x 9 = 90\n",
      "10! = 90 x 8 = 720\n",
      "10! = 720 x 7 = 5040\n",
      "10! = 5040 x 6 = 30240\n",
      "10! = 30240 x 5 = 151200\n",
      "10! = 151200 x 4 = 604800\n",
      "10! = 604800 x 3 = 1814400\n",
      "10! = 1814400 x 2 = 3628800\n",
      "10! = 3628800 x 1 = 3628800\n",
      "\n",
      "10! = 10 x 9 x 8 x 7 x 6 x 5 x 4 x 3 x 2 x 1  = 3628800\n"
     ]
    }
   ],
   "source": [
    "num = int(input('Digite o número inteiro para aplicar o fatorial'))\n",
    "result = num\n",
    "\n",
    "print(f'Número escolhido {num}')\n",
    "\n",
    "for fat in range(num,1,-1):\n",
    "    print(f'{num}! = {result} x {fat-1} = {result * (fat-1)}')\n",
    "    result = result * (fat-1)\n",
    "\n",
    "result2 = f'{num} '\n",
    "for fat in range(num,1,-1):\n",
    "    result2 += (str(f'x {fat-1} '))\n",
    "\n",
    "print (f'\\n{num}! = {result2} = {result}')\n",
    "\n"
   ]
  },
  {
   "cell_type": "markdown",
   "metadata": {
    "id": "oGNKuQjsJRdT"
   },
   "source": [
    "### Momento dos projetos"
   ]
  },
  {
   "cell_type": "markdown",
   "metadata": {
    "id": "ODxaTUYmJRdS"
   },
   "source": [
    "#### Questão 6\n",
    "Escreva um programa que gere a tabuada de um número inteiro de 1 a 10, de acordo com a escolha da pessoa usuária. Como exemplo, para o número 2, a tabuada deve ser mostrada no seguinte formato:\n",
    "```\n",
    "Tabuada do 2:\n",
    "2 x 1 = 2\n",
    "2 x 2 = 4\n",
    "[...]\n",
    "2 x 10 = 20\n",
    "```"
   ]
  },
  {
   "cell_type": "code",
   "execution_count": 178,
   "metadata": {
    "id": "lkTlbxPIJRdS"
   },
   "outputs": [
    {
     "name": "stdout",
     "output_type": "stream",
     "text": [
      "Tabuada do -5:\n",
      "-5 x 1 = -5\n",
      "-5 x 2 = -10\n",
      "-5 x 3 = -15\n",
      "-5 x 4 = -20\n",
      "-5 x 5 = -25\n",
      "-5 x 6 = -30\n",
      "-5 x 7 = -35\n",
      "-5 x 8 = -40\n",
      "-5 x 9 = -45\n",
      "-5 x 10 = -50\n"
     ]
    }
   ],
   "source": [
    "num = int(input('Digite o número inteiro para gerar a tabuada'))\n",
    "\n",
    "print(f'Tabuada do {num}:')\n",
    "\n",
    "for tabu in range(1,11):\n",
    "    print(f'{num} x {tabu} = {num * tabu}')\n"
   ]
  },
  {
   "cell_type": "code",
   "execution_count": 187,
   "metadata": {},
   "outputs": [
    {
     "name": "stdout",
     "output_type": "stream",
     "text": [
      "Tabuadas de 1 a 10\n",
      "\n",
      "Tabuada do 1:\n",
      "1 x 1 = 1\n",
      "2 x 1 = 2\n",
      "3 x 1 = 3\n",
      "4 x 1 = 4\n",
      "5 x 1 = 5\n",
      "6 x 1 = 6\n",
      "7 x 1 = 7\n",
      "8 x 1 = 8\n",
      "9 x 1 = 9\n",
      "10 x 1 = 10\n",
      "\n",
      "Tabuada do 2:\n",
      "1 x 2 = 2\n",
      "2 x 2 = 4\n",
      "3 x 2 = 6\n",
      "4 x 2 = 8\n",
      "5 x 2 = 10\n",
      "6 x 2 = 12\n",
      "7 x 2 = 14\n",
      "8 x 2 = 16\n",
      "9 x 2 = 18\n",
      "10 x 2 = 20\n",
      "\n",
      "Tabuada do 3:\n",
      "1 x 3 = 3\n",
      "2 x 3 = 6\n",
      "3 x 3 = 9\n",
      "4 x 3 = 12\n",
      "5 x 3 = 15\n",
      "6 x 3 = 18\n",
      "7 x 3 = 21\n",
      "8 x 3 = 24\n",
      "9 x 3 = 27\n",
      "10 x 3 = 30\n",
      "\n",
      "Tabuada do 4:\n",
      "1 x 4 = 4\n",
      "2 x 4 = 8\n",
      "3 x 4 = 12\n",
      "4 x 4 = 16\n",
      "5 x 4 = 20\n",
      "6 x 4 = 24\n",
      "7 x 4 = 28\n",
      "8 x 4 = 32\n",
      "9 x 4 = 36\n",
      "10 x 4 = 40\n",
      "\n",
      "Tabuada do 5:\n",
      "1 x 5 = 5\n",
      "2 x 5 = 10\n",
      "3 x 5 = 15\n",
      "4 x 5 = 20\n",
      "5 x 5 = 25\n",
      "6 x 5 = 30\n",
      "7 x 5 = 35\n",
      "8 x 5 = 40\n",
      "9 x 5 = 45\n",
      "10 x 5 = 50\n",
      "\n",
      "Tabuada do 6:\n",
      "1 x 6 = 6\n",
      "2 x 6 = 12\n",
      "3 x 6 = 18\n",
      "4 x 6 = 24\n",
      "5 x 6 = 30\n",
      "6 x 6 = 36\n",
      "7 x 6 = 42\n",
      "8 x 6 = 48\n",
      "9 x 6 = 54\n",
      "10 x 6 = 60\n",
      "\n",
      "Tabuada do 7:\n",
      "1 x 7 = 7\n",
      "2 x 7 = 14\n",
      "3 x 7 = 21\n",
      "4 x 7 = 28\n",
      "5 x 7 = 35\n",
      "6 x 7 = 42\n",
      "7 x 7 = 49\n",
      "8 x 7 = 56\n",
      "9 x 7 = 63\n",
      "10 x 7 = 70\n",
      "\n",
      "Tabuada do 8:\n",
      "1 x 8 = 8\n",
      "2 x 8 = 16\n",
      "3 x 8 = 24\n",
      "4 x 8 = 32\n",
      "5 x 8 = 40\n",
      "6 x 8 = 48\n",
      "7 x 8 = 56\n",
      "8 x 8 = 64\n",
      "9 x 8 = 72\n",
      "10 x 8 = 80\n",
      "\n",
      "Tabuada do 9:\n",
      "1 x 9 = 9\n",
      "2 x 9 = 18\n",
      "3 x 9 = 27\n",
      "4 x 9 = 36\n",
      "5 x 9 = 45\n",
      "6 x 9 = 54\n",
      "7 x 9 = 63\n",
      "8 x 9 = 72\n",
      "9 x 9 = 81\n",
      "10 x 9 = 90\n",
      "\n",
      "Tabuada do 10:\n",
      "1 x 10 = 10\n",
      "2 x 10 = 20\n",
      "3 x 10 = 30\n",
      "4 x 10 = 40\n",
      "5 x 10 = 50\n",
      "6 x 10 = 60\n",
      "7 x 10 = 70\n",
      "8 x 10 = 80\n",
      "9 x 10 = 90\n",
      "10 x 10 = 100\n"
     ]
    }
   ],
   "source": [
    "num = 10\n",
    "\n",
    "print('Tabuadas de 1 a 10')\n",
    "\n",
    "for tab in range(1,num+1):\n",
    "    print(f'\\nTabuada do {tab}:')\n",
    "\n",
    "    for tabu in range(1,11):\n",
    "        print(f'{tabu} x {tab} = {tab * tabu}')"
   ]
  },
  {
   "cell_type": "markdown",
   "metadata": {
    "id": "LeIbnt8VJRdS"
   },
   "source": [
    "#### Questão 7\n",
    "Os números primos possuem várias aplicações dentro da Ciência de Dados, por exemplo, na criptografia e segurança. Um número primo é aquele que é divisível apenas por um e por ele mesmo. Faça um programa que peça um número inteiro e determine se ele é ou não um número primo."
   ]
  },
  {
   "cell_type": "code",
   "execution_count": 265,
   "metadata": {
    "id": "2rcNU7twJRdS"
   },
   "outputs": [
    {
     "name": "stdout",
     "output_type": "stream",
     "text": [
      "-2 não é número primo\n"
     ]
    }
   ],
   "source": [
    "num = int(input('Digite o número para saber se é primo'))\n",
    "ctr = 0\n",
    "\n",
    "for i in range(1,num):\n",
    "    if num % i == 0:\n",
    "        ctr += 1\n",
    "    if ctr > 1:\n",
    "        print(f'{num} não é número primo')\n",
    "        break\n",
    "    \n",
    "if num <= 1:\n",
    "        print(f'{num} não é número primo')\n",
    "\n",
    "if ctr == 1:\n",
    "    print(f'O número {num} é primo')"
   ]
  },
  {
   "cell_type": "code",
   "execution_count": 208,
   "metadata": {},
   "outputs": [
    {
     "name": "stdout",
     "output_type": "stream",
     "text": [
      "Números Primos até 100:\n",
      "2\n",
      "3\n",
      "5\n",
      "7\n",
      "11\n",
      "13\n",
      "17\n",
      "19\n",
      "23\n",
      "29\n",
      "31\n",
      "37\n",
      "41\n",
      "43\n",
      "47\n",
      "53\n",
      "59\n",
      "61\n",
      "67\n",
      "71\n",
      "73\n",
      "79\n",
      "83\n",
      "89\n",
      "97\n"
     ]
    }
   ],
   "source": [
    "num = 100\n",
    "\n",
    "print('Números Primos até 100:') \n",
    "\n",
    "for n in range(1,num+1):\n",
    "    ctr = 0\n",
    "    for i in range(1,n):\n",
    "        if n % i == 0:\n",
    "            ctr += 1\n",
    "        # if ctr > 1:\n",
    "        #     break\n",
    "    if ctr == 1:\n",
    "        print(f'{n}')        "
   ]
  },
  {
   "cell_type": "markdown",
   "metadata": {
    "id": "QTwb6QaCJRdT"
   },
   "source": [
    "#### Questão 8\n",
    "Vamos entender a distribuição de idades de pensionistas de uma empresa de previdência. Escreva um programa que leia as idades de uma quantidade não informada de clientes e mostre a distribuição em intervalos de [0-25], [26-50], [51-75] e [76-100]. Encerre a entrada de dados com um número negativo."
   ]
  },
  {
   "cell_type": "code",
   "execution_count": 214,
   "metadata": {
    "id": "4IAhaDmYJRdT"
   },
   "outputs": [
    {
     "name": "stdout",
     "output_type": "stream",
     "text": [
      "89\n",
      "90\n",
      "56\n",
      "65\n",
      "70\n",
      "2\n",
      "\n",
      "Foram digitadas as idade de 6 pensionistas distribuídos: \n",
      "[0-25] - 1\n",
      "[26-50] - 0\n",
      "[51-75] - 3\n",
      "[76+] - 2\n",
      "\n"
     ]
    }
   ],
   "source": [
    "idade = 0\n",
    "pens = 0\n",
    "\n",
    "gap1,gap2,gap3,gap4 = 0,0,0,0\n",
    "\n",
    "while idade >= 0:\n",
    "    idade = int(input('Digite a idade do pensionista'))\n",
    "    if idade == -1:\n",
    "        break\n",
    "    if idade >= 76:\n",
    "        print(idade)\n",
    "        gap4 +=1\n",
    "    elif idade >= 51:\n",
    "        print(idade)\n",
    "        gap3 +=1\n",
    "    elif idade >= 26:\n",
    "        print(idade)\n",
    "        gap2 +=1\n",
    "    elif idade >= 0:\n",
    "        print(idade)\n",
    "        gap1 +=1\n",
    "    pens +=1\n",
    "\n",
    "\n",
    "print(f'\\nForam digitadas as idade de {pens} pensionistas distribuídos:',\n",
    "      f'\\n[0-25] - {gap1}\\n[26-50] - {gap2}\\n[51-75] - {gap3}\\n[76+] - {gap4}\\n')\n"
   ]
  },
  {
   "cell_type": "markdown",
   "metadata": {
    "id": "soJCQVwRJRdT"
   },
   "source": [
    "#### Questão 9\n",
    "Em uma eleição para gerência em uma empresa com 20 funcionários, existem quatro candidatos. Escreva um programa que calcule o vencedor da eleição. A votação ocorreu da seguinte maneira:\n",
    "- Cada funcionário votou em um dos quatro candidatos (representados pelos números 1, 2, 3 e 4).\n",
    "- Também foram contabilizados os votos nulos (representado pelo número 5) e os votos em branco (representado pelo número 6).\n",
    "\n",
    "Ao final da votação, o programa deve exibir o total de votos para cada candidato, o número de votos nulos e o número de votos em branco. Além disso, deve calcular e exibir a porcentagem de votos nulos em relação ao total de votos e a porcentagem de votos em branco em relação ao total de votos."
   ]
  },
  {
   "cell_type": "code",
   "execution_count": 228,
   "metadata": {
    "id": "041EFrgG-4gR"
   },
   "outputs": [
    {
     "name": "stdout",
     "output_type": "stream",
     "text": [
      "Votos contabilizados: \n",
      "Representante 1, 5 votos (25.0%)\n",
      "Representante 2, 6 votos (30.0%)\n",
      "Representante 3, 3 votos (15.0%)\n",
      "Representante 4, 1 votos (5.0%)\n",
      "Voto Nulo, 3 votos (15.0%)\n",
      "Voto Branco, 2 votos (10.0%)\n"
     ]
    }
   ],
   "source": [
    "voto = 1\n",
    "rep1,rep2,rep3,rep4,nul,bra = 0,0,0,0,0,0\n",
    "\n",
    "for i in range(1,21):\n",
    "    voto = int(input(f'Voto nº {i}. Digite o voto de 1 a 6'))\n",
    "\n",
    "    while 7 <= voto or voto <= 0:\n",
    "        voto = int(input(f'Voto nº {i} inválido. Escolha um número de 1 a 6'))\n",
    "\n",
    "    if voto == 1:\n",
    "        rep1 +=1\n",
    "    if voto == 2:\n",
    "        rep2 +=1\n",
    "    if voto == 3:\n",
    "        rep3 +=1\n",
    "    if voto == 4:\n",
    "        rep4 +=1\n",
    "    if voto == 5:\n",
    "        nul +=1\n",
    "    if voto == 6:\n",
    "        bra +=1\n",
    "\n",
    "votos = [rep1,rep2,rep3,rep4,nul,bra]\n",
    "reps = ['Representante 1','Representante 2', 'Representante 3', 'Representante 4', 'Voto Nulo', 'Voto Branco']\n",
    "\n",
    "print('Votos contabilizados: ')\n",
    "for rep in range(1,7):\n",
    "    print(f'{reps[rep-1]}, {votos[rep-1]} votos ({votos[rep-1]/20*100}%)')\n",
    "    \n",
    "\n",
    "\n",
    "    "
   ]
  },
  {
   "cell_type": "markdown",
   "metadata": {
    "id": "eijHQiNU2IZ7"
   },
   "source": [
    "## Aula 5 - Estruturas de dados"
   ]
  },
  {
   "cell_type": "markdown",
   "metadata": {
    "id": "92F0bKtBMgd7"
   },
   "source": [
    "### Aquecendo na programação"
   ]
  },
  {
   "cell_type": "markdown",
   "metadata": {
    "id": "IypX2ANuMgeC"
   },
   "source": [
    "#### Questão 1\n",
    "Faça um programa que tenha a seguinte lista contendo os valores de gastos de uma empresa de papel `[2172.54, 3701.35, 3518.09, 3456.61, 3249.38, 2840.82, 3891.45, 3075.26, 2317.64, 3219.08]`. Com esses valores, faça um programa que calcule a média de gastos. Dica, use as funções built-in [`sum()`](https://docs.python.org/3/library/functions.html#sum) e [`len()`](https://docs.python.org/3/library/functions.html#len)."
   ]
  },
  {
   "cell_type": "code",
   "execution_count": 285,
   "metadata": {
    "id": "ge3LuFhLMgeD"
   },
   "outputs": [
    {
     "name": "stdout",
     "output_type": "stream",
     "text": [
      "A média de gastos é de 3144.222\n"
     ]
    }
   ],
   "source": [
    "gastos = [2172.54, 3701.35, 3518.09, 3456.61, 3249.38, 2840.82, 3891.45, 3075.26, 2317.64, 3219.08]\n",
    "\n",
    "media = sum(gastos)/len(gastos)\n",
    "\n",
    "print(f'A média de gastos é de {media}')"
   ]
  },
  {
   "cell_type": "markdown",
   "metadata": {
    "id": "xrOeLhQkMgeD"
   },
   "source": [
    "#### Questão 2\n",
    " Com os mesmos dados da questão anterior, defina quantas compras foram acima de 3000 reais e calcule a porcentagem quanto ao total de compras."
   ]
  },
  {
   "cell_type": "code",
   "execution_count": 286,
   "metadata": {
    "id": "Ygu5TMZyMgeD"
   },
   "outputs": [
    {
     "name": "stdout",
     "output_type": "stream",
     "text": [
      "Foram realizadas 7 compras acima de R$3.000.00 correspondendo a 70.0\n"
     ]
    }
   ],
   "source": [
    "i = 0\n",
    "\n",
    "for val in gastos:\n",
    "    if val > 3000:\n",
    "        i +=1\n",
    "\n",
    "print(f'Foram realizadas {i} compras acima de R$3.000.00 correspondendo a {i/len(gastos)*100}')"
   ]
  },
  {
   "cell_type": "markdown",
   "metadata": {
    "id": "JgCOrE_BMgeD"
   },
   "source": [
    "#### Questão 3\n",
    "Faça um código que colete em uma lista 5 números inteiros quaisquer e imprima a lista. Exemplo: `[1,4,7,2,4]`."
   ]
  },
  {
   "cell_type": "code",
   "execution_count": null,
   "metadata": {
    "id": "vtM9O1hLMgeD"
   },
   "outputs": [
    {
     "name": "stdout",
     "output_type": "stream",
     "text": [
      "Os números digitados foram [5, 10, 17, 8, 9]\n"
     ]
    }
   ],
   "source": [
    "lista = []\n",
    "\n",
    "while len(lista) < 5:\n",
    "    lista.append(int(input('Digite um número inteiro')))\n",
    "\n",
    "print(f'Os números digitados foram {lista}')"
   ]
  },
  {
   "cell_type": "markdown",
   "metadata": {
    "id": "p3bTp88HMgeD"
   },
   "source": [
    "#### Questão 4\n",
    "Colete novamente 5 inteiros e imprima a lista em ordem inversa à enviada."
   ]
  },
  {
   "cell_type": "code",
   "execution_count": 290,
   "metadata": {
    "id": "-CGwMIyHMgeD"
   },
   "outputs": [
    {
     "name": "stdout",
     "output_type": "stream",
     "text": [
      "Os números digitados foram [7, 85, 6, 4, 2]\n",
      "Lista invertida [2, 4, 6, 85, 7]\n"
     ]
    }
   ],
   "source": [
    "lista = []\n",
    "\n",
    "while len(lista) < 5:\n",
    "    lista.append(int(input('Digite um número inteiro')))\n",
    "print(f'Os números digitados foram {lista}')\n",
    "\n",
    "lista_i =[]\n",
    "while len(lista) > 0:\n",
    "    lista_i.append(lista.pop())\n",
    "\n",
    "print(f'Lista invertida {lista_i}')\n"
   ]
  },
  {
   "cell_type": "markdown",
   "metadata": {
    "id": "eIXd_z1lMgeD"
   },
   "source": [
    "#### Questão 5\n",
    "Faça um programa que, ao inserir um número qualquer, criará uma lista contendo todos os números primos entre 1 e o número digitado."
   ]
  },
  {
   "cell_type": "code",
   "execution_count": 311,
   "metadata": {
    "id": "rj_6GHstMgeE"
   },
   "outputs": [
    {
     "name": "stdout",
     "output_type": "stream",
     "text": [
      "\n",
      "Número escolhido 2\n",
      "Os números primos entre 1 e 2 são: [2]\n"
     ]
    }
   ],
   "source": [
    "num = int(input('Digite um número'))\n",
    "\n",
    "while num < 1:\n",
    "    num = int(input('Número inválido. Digite um número maior que zero'))\n",
    "\n",
    "print(f'\\nNúmero escolhido {num}')\n",
    "\n",
    "if num == 1:\n",
    "    print('Número 1 não é primo')\n",
    "\n",
    "primos = []\n",
    "\n",
    "for x in range(2,num+1):\n",
    "    ctr = True\n",
    "    for i in range(2, x):\n",
    "        if x % i == 0:\n",
    "            ctr = False\n",
    "            break\n",
    "\n",
    "    if ctr == True:\n",
    "        primos.append(x)\n",
    "\n",
    "if len(primos) > 0:\n",
    "    print(f'Os números primos entre 1 e {num} são: {primos}')\n",
    "\n"
   ]
  },
  {
   "cell_type": "markdown",
   "metadata": {
    "id": "zrbz3ENlMgeE"
   },
   "source": [
    "#### Questão 6\n",
    "Escreva um programa que peça uma data informando o dia, mês e ano e determine se ela é uma data válida para uma análise."
   ]
  },
  {
   "cell_type": "code",
   "execution_count": 42,
   "metadata": {
    "id": "0eYA8UjTMgeE"
   },
   "outputs": [
    {
     "name": "stdout",
     "output_type": "stream",
     "text": [
      "Data escolhida 12-12-19985 é True\n"
     ]
    }
   ],
   "source": [
    "data = input('Digite a data para validação em um formato dia, mês e ano')\n",
    "\n",
    "dia = 0\n",
    "mes = 0\n",
    "ano = 0\n",
    "\n",
    "if '/' in data:\n",
    "    data = data.split('/')\n",
    "    dia = int(data[0])\n",
    "    mes = int(data[1])\n",
    "    ano = int(data[2])\n",
    "elif '-' in data:\n",
    "    data = data.split('-')\n",
    "    dia = int(data[0])\n",
    "    mes = int(data[1])\n",
    "    ano = int(data[2])\n",
    "elif '.' in data:\n",
    "    data = data.split('.')\n",
    "    dia = int(data[0])\n",
    "    mes = int(data[1])\n",
    "    ano = int(data[2])\n",
    "elif len(data) >= 5:\n",
    "    dia = int(data[:2])\n",
    "    mes = int(data[2:4])\n",
    "    ano = int(data[4:])\n",
    "\n",
    "\n",
    "dia31 = [1,3,5,7,8,10,12]\n",
    "\n",
    "bisexto = False\n",
    "\n",
    "if int(ano) % 100 == 0:\n",
    "    if int(ano) % 400 == 0:\n",
    "        bisexto = True\n",
    "elif int(ano) % 4 == 0:\n",
    "    bisexto = True\n",
    "\n",
    "datavalid = True\n",
    "\n",
    "#Validando Ano\n",
    "if ano < 0:\n",
    "    datavalid = False\n",
    "\n",
    "#Validando Mês\n",
    "if mes > 12 or mes < 1:\n",
    "    datavalid = False\n",
    "\n",
    "#Validando Dia\n",
    "if dia < 1 or dia > 31: #valida se o dia está entre 1 e 31\n",
    "    datavalid = False\n",
    "elif (mes == 2 and bisexto == True and dia > 29)  or (mes == 2 and bisexto == False and dia > 28): #valida se é fevereiro e se o dia é maior que 29 em ano não bisexto\n",
    "    datavalid = False\n",
    "elif mes not in dia31 and dia >= 31:\n",
    "    datavalid = False\n",
    "\n",
    "if type(data) == str and len(data) < 5:\n",
    "    print(f'Inválido. O dado informado ({data}), {dia}-{mes}-{ano} não forma uma data')\n",
    "else:\n",
    "    print(f'Data escolhida {dia}-{mes}-{ano} é {datavalid}')"
   ]
  },
  {
   "cell_type": "markdown",
   "metadata": {
    "id": "ut_4VHdGMgeE"
   },
   "source": [
    "### Momento dos projetos"
   ]
  },
  {
   "cell_type": "markdown",
   "metadata": {
    "id": "G86Z0vD_MgeE"
   },
   "source": [
    "#### Questão 7\n",
    "Para um estudo envolvendo o nível de multiplicação de bactérias em uma colônia, foi coletado o número de bactérias multiplicadas por dia, com base em um processo de duplicação diária e pode ser observado a seguir: `[1.2, 2.1, 3.3, 5.0, 7.8, 11.3, 16.6, 25.1, 37.8, 56.9]`. Tendo esses valores, faça um código que gere uma lista contendo o percentual de crescimento de bactérias por dia, comparando o número de bactérias em cada dia com o número de bactérias do dia anterior. Dica: para calcular o percentual de crescimento usamos a seguinte equação: `100 * (amostra_atual - amostra_passada) / (amostra_passada)`."
   ]
  },
  {
   "cell_type": "code",
   "execution_count": 45,
   "metadata": {
    "id": "PXNO_CFkMgeE"
   },
   "outputs": [
    {
     "name": "stdout",
     "output_type": "stream",
     "text": [
      "Dia 1: Cresimento de 75.00%\n",
      "Dia 2: Cresimento de 57.14%\n",
      "Dia 3: Cresimento de 51.52%\n",
      "Dia 4: Cresimento de 56.00%\n",
      "Dia 5: Cresimento de 44.87%\n",
      "Dia 6: Cresimento de 46.90%\n",
      "Dia 7: Cresimento de 51.20%\n",
      "Dia 8: Cresimento de 50.60%\n",
      "Dia 9: Cresimento de 50.53%\n"
     ]
    }
   ],
   "source": [
    "bac = [1.2, 2.1, 3.3, 5.0, 7.8, 11.3, 16.6, 25.1, 37.8, 56.9]\n",
    "\n",
    "bac1 = bac[0]\n",
    "dia = 1\n",
    "\n",
    "for bac2 in bac[1:]:\n",
    "    taxa = 100*(bac2-bac1)/bac1\n",
    "    print(f'Dia {dia}: Cresimento de {taxa:.2f}%')\n",
    "    bac1 = bac2\n",
    "    dia += 1"
   ]
  },
  {
   "cell_type": "markdown",
   "metadata": {
    "id": "p4nxogpnMgeE"
   },
   "source": [
    "#### Questão 8\n",
    "Para uma seleção de produtos alimentícios, precisamos separar o conjunto de IDs dados por números inteiros, sabendo que os produtos com ID par são doces e os com ID ímpar são amargos. Monte um código que colete 10 IDs. Depois, calcule e mostre a quantidade de produtos doces e amargos."
   ]
  },
  {
   "cell_type": "code",
   "execution_count": 46,
   "metadata": {
    "id": "WqjO2SZkMgeE"
   },
   "outputs": [
    {
     "name": "stdout",
     "output_type": "stream",
     "text": [
      "IDs inseridos: \n",
      "[45416, 12154, 1242, 121, 321574, 13487, 134587, 36196843, 36841, 3115]\n",
      "IDs pares: 4\n",
      "IDs ímpares: 6\n"
     ]
    }
   ],
   "source": [
    "ids = []\n",
    "\n",
    "for cod in range(0,10):\n",
    "    ids.append(int(input('Digite o ID do produto')))\n",
    "\n",
    "print(f'IDs inseridos: \\n{ids}')\n",
    "\n",
    "par,impar = 0,0\n",
    "\n",
    "for cod in ids:\n",
    "    if cod % 2 == 0:\n",
    "        par += 1\n",
    "    else:\n",
    "        impar += 1\n",
    "\n",
    "print(f'IDs pares: {par}\\nIDs ímpares: {impar}')"
   ]
  },
  {
   "cell_type": "markdown",
   "metadata": {
    "id": "t5OrLxV6MgeE"
   },
   "source": [
    "#### Questão 9\n",
    "Desenvolva um programa que informa a nota de um aluno de acordo com suas respostas. Ele deve pedir a resposta de um aluno para cada questão e é preciso verificar se a resposta foi igual ao gabarito. Cada questão vale um ponto e existem alternativas:  A, B, C ou D.\n",
    "```\n",
    "Gabarito da Prova:\n",
    "01 - D\n",
    "02 - A\n",
    "03 - C\n",
    "04 - B\n",
    "05 - A\n",
    "06 - D\n",
    "07 - C\n",
    "08 - C\n",
    "09 - A\n",
    "10 - B\n",
    "```"
   ]
  },
  {
   "cell_type": "code",
   "execution_count": 53,
   "metadata": {
    "id": "ytIQDJrQMgeE"
   },
   "outputs": [
    {
     "name": "stdout",
     "output_type": "stream",
     "text": [
      "Resposta: A\n",
      "Resposta: B\n",
      "Resposta: C\n",
      "Resposta: D\n",
      "Resposta: A\n",
      "Resposta: B\n",
      "Resposta: C\n",
      "Resposta: D\n",
      "Resposta: A\n",
      "Resposta: B\n",
      "\n",
      "Nota final: 5\n"
     ]
    }
   ],
   "source": [
    "gabarito = {\n",
    "    1 : 'D',\n",
    "    2 : 'A',\n",
    "    3 : 'C',\n",
    "    4 : 'B',\n",
    "    5 : 'A',\n",
    "    6 : 'D',\n",
    "    7 : 'C',\n",
    "    8 : 'C',\n",
    "    9 : 'A',\n",
    "    10 : 'B'\n",
    "}\n",
    "\n",
    "resp = {}\n",
    "alternativas = ['A','B','C','D']\n",
    "\n",
    "for quest in range(1,11):\n",
    "    resp[quest] = (input(f'Digite a resposta para a questão {quest}'))\n",
    "    while resp[quest].upper() not in alternativas:\n",
    "        resp[quest] = (input(f'Resposta inválida. Escolha uma resposta de A a D para a questão {quest}'))\n",
    "    print(f'Resposta: {resp[quest].upper()}')\n",
    "\n",
    "acertos = 0\n",
    "\n",
    "for gab in gabarito.keys():\n",
    "    if resp[gab].upper() == gabarito[gab]:\n",
    "        acertos += 1\n",
    "\n",
    "print(f'\\nNota final: {acertos}')"
   ]
  },
  {
   "cell_type": "markdown",
   "metadata": {
    "id": "aSBMzh-AMgeF"
   },
   "source": [
    "#### Questão 10\n",
    "Um instituto de meteorologia deseja fazer um estudo de temperatura média de cada mês do ano. Para isso, você precisa fazer um código que colete e armazene essas temperaturas médias em uma lista. Depois, calcule a média anual das temperaturas e mostre todas as temperaturas acima da média anual, e em que mês elas ocorreram, mostrando os meses por extenso: Janeiro, Fevereiro, etc."
   ]
  },
  {
   "cell_type": "code",
   "execution_count": null,
   "metadata": {
    "id": "ftj04s2uMgeF"
   },
   "outputs": [
    {
     "name": "stdout",
     "output_type": "stream",
     "text": [
      "Temperatura de Janeiro: 23.5°\n",
      "Temperatura de Fevereiro: 24.0°\n",
      "Temperatura de Março: 23.6°\n",
      "Temperatura de Abril: 22.2°\n",
      "Temperatura de Maio: 20.1°\n",
      "Temperatura de Junho: 19.5°\n",
      "Temperatura de Julho: 18.5°\n",
      "Temperatura de Agosto: 20.7°\n",
      "Temperatura de Setembro: 24.1°\n",
      "Temperatura de Outubro: 23.5°\n",
      "Temperatura de Novembro: 25.2°\n",
      "Temperatura de Dezembro: 25.7°\n",
      "\n",
      "A média anual foi de 22.5°\n",
      " Meses acima da média:\n",
      "Janeiro 23.5°\n",
      "Fevereiro 24.0°\n",
      "Março 23.6°\n",
      "Setembro 24.1°\n",
      "Outubro 23.5°\n",
      "Novembro 25.2°\n",
      "Dezembro 25.7°\n"
     ]
    }
   ],
   "source": [
    "meses = ['Janeiro','Fevereiro','Março','Abril','Maio','Junho','Julho','Agosto','Setembro','Outubro','Novembro','Dezembro']\n",
    "\n",
    "temp_meses = {}\n",
    "\n",
    "for mes in meses:\n",
    "    temp_meses[mes] = float(input(f'Digite a média de temperatura de {mes}'))\n",
    "    print(f'Temperatura de {mes}: {temp_meses[mes]}°')\n",
    "\n",
    "media = sum(temp_meses.values()) / len(meses)\n",
    "\n",
    "print(f'\\nA média anual foi de {media:.1f}°\\nMeses acima da média:')\n",
    "for mes in meses:\n",
    "    if temp_meses[mes] > media:\n",
    "        print(mes,f'{temp_meses[mes]}°')"
   ]
  },
  {
   "cell_type": "markdown",
   "metadata": {
    "id": "0X8S6s4jMgeF"
   },
   "source": [
    "#### Questão 11\n",
    "Uma empresa de e-commerce está interessada em analisar as vendas dos seus produtos. Os dados das vendas foram armazenados em um dicionário:\n",
    "```\n",
    "{'Produto A': 300, 'Produto B': 80, 'Produto C': 60,\n",
    " 'Produto D': 200, 'Produto E': 250, 'Produto F': 30}\n",
    "```\n",
    "Escreva um código que calcule o total de vendas e o produto mais vendido."
   ]
  },
  {
   "cell_type": "code",
   "execution_count": 61,
   "metadata": {
    "id": "Xa3DJLtFMgeF"
   },
   "outputs": [
    {
     "name": "stdout",
     "output_type": "stream",
     "text": [
      "Total de vendas: 920\n",
      "Produto mais vendido: Produto A\n"
     ]
    }
   ],
   "source": [
    "Vendas = {'Produto A': 300, 'Produto B': 80, 'Produto C': 60, 'Produto D': 200, 'Produto E': 250, 'Produto F': 30}\n",
    "\n",
    "mais_vendido = 'prod'\n",
    "total_vendas = 0\n",
    "venda = 0\n",
    "\n",
    "for prod, qtd in Vendas.items():\n",
    "    total_vendas += qtd\n",
    "    if qtd > venda:\n",
    "        venda = qtd\n",
    "        mais_vendido = prod\n",
    "\n",
    "print(f'Total de vendas: {total_vendas}\\nProduto mais vendido: {mais_vendido}')\n",
    "\n"
   ]
  },
  {
   "cell_type": "markdown",
   "metadata": {
    "id": "nrEwf_1ZMgeF"
   },
   "source": [
    "#### Questão 12\n",
    "Uma pesquisa de mercado foi feita para decidir qual design de uma marca infantil mais agrada crianças. A pesquisa foi feita e o votos computados podem ser observados abaixo:\n",
    "```\n",
    "'''\n",
    "Tabela de votos da marca\n",
    "Design 1 - 1334 votos\n",
    "Design 2 - 982 votos\n",
    "Design 3 - 1751 votos\n",
    "Design 4 - 210 votos\n",
    "Design 5 - 1811 votos\n",
    "'''\n",
    "```\n",
    "Adapte os dados fornecidos a você para uma estrutura de dicionário e a partir dele, informe o design vencedor e a porcentagem de votos recebidos.\n"
   ]
  },
  {
   "cell_type": "code",
   "execution_count": 64,
   "metadata": {
    "id": "MRPcGR-_MgeF"
   },
   "outputs": [
    {
     "name": "stdout",
     "output_type": "stream",
     "text": [
      "Analisado 6088. O design vencedor foi o Design 5 com 30% dos votos (1811)\n"
     ]
    }
   ],
   "source": [
    "Votos = {\n",
    "'Design 1' : 1334,\n",
    "'Design 2' : 982,\n",
    "'Design 3' : 1751,\n",
    "'Design 4' : 210,\n",
    "'Design 5' : 1811,\n",
    "}\n",
    "\n",
    "design_vencedor = 'Design'\n",
    "mais_votos = 0\n",
    "total_votos = 0\n",
    "\n",
    "for design,votos in Votos.items():\n",
    "    total_votos += votos\n",
    "    if votos > mais_votos:\n",
    "        design_vencedor = design\n",
    "        mais_votos = votos\n",
    "\n",
    "print(f'Analisado {total_votos}. O design vencedor foi o {design_vencedor} com {mais_votos/total_votos*100:.0f}% dos votos ({mais_votos})')"
   ]
  },
  {
   "cell_type": "markdown",
   "metadata": {
    "id": "HRTFFzKIMgeF"
   },
   "source": [
    "#### Questão 13\n",
    "Os funcionários de um setor da empresa que você trabalha vão receber um abono correspondente a 10% do seu salário devido ao ótimo desempenho do time. O setor financeiro solicitou sua ajuda para a verificação das consequências financeiras que esse abono irá gerar nos recursos. Assim, foi encaminhada para você uma lista com os salários que receberão o abono: `[1172, 1644, 2617, 5130, 5532, 6341, 6650, 7238, 7685, 7782, 7903]`. O abono de cada funcionário não pode ser inferior a 200. Em código, transforme cada um dos salários em chaves de um dicionário e o abono de cada salário no elemento. Depois, informe o total de gastos com o abono, quantos funcionários receberam o abono mínimo e qual o maior valor de abono fornecido.\n"
   ]
  },
  {
   "cell_type": "code",
   "execution_count": 77,
   "metadata": {
    "id": "QsDSCua42bLB"
   },
   "outputs": [
    {
     "name": "stdout",
     "output_type": "stream",
     "text": [
      "O total de gastos será de R$8693.30\n",
      "2 receberão o abono minimo de R$200.00\n",
      "O maior abono será de R$790.30\n",
      "\n",
      "Dicionário do abono: {1172: 200, 1644: 200, 2617: 261.7, 5130: 513.0, 5532: 553.2, 6341: 634.1, 6650: 665.0, 7238: 723.8, 7685: 768.5, 7782: 778.2, 7903: 790.3}\n"
     ]
    }
   ],
   "source": [
    "salarios = [1172, 1644, 2617, 5130, 5532, 6341, 6650, 7238, 7685, 7782, 7903]\n",
    "\n",
    "salario_abono = {}\n",
    "qtd_minimo = 0\n",
    "maior_abono = 0\n",
    "total_gastos = 0\n",
    "\n",
    "for salario in salarios:\n",
    "    if salario * 0.1 < 200:\n",
    "        salario_abono[salario] = 200\n",
    "        qtd_minimo += 1\n",
    "    else:\n",
    "        salario_abono[salario] = round(salario * 0.1,2)\n",
    "    \n",
    "    total_gastos = salario + salario_abono[salario]\n",
    "\n",
    "    if salario_abono[salario] > maior_abono:\n",
    "        maior_abono = salario_abono[salario]\n",
    "\n",
    "print(f'O total de gastos será de R${total_gastos:.2f}')\n",
    "print(f'{qtd_minimo} receberão o abono minimo de R$200.00')\n",
    "print(f'O maior abono será de R${maior_abono:.2f}\\n')\n",
    "\n",
    "print(f'Dicionário do abono:',salario_abono)\n",
    "\n"
   ]
  },
  {
   "cell_type": "markdown",
   "metadata": {
    "id": "6dEXZEwjMlWy"
   },
   "source": [
    "#### Questão 14\n",
    "Uma equipe de cientistas de dados está estudando a diversidade biológica em uma floresta. A equipe fez a coleta de informações sobre o número de espécies de plantas e animais em cada área da floresta e armazenaram essas informações em um dicionário. Nele, a chave descreve a área dos dados e os valores nas listas correspondem às espécies de plantas e animais nas áreas, respectivamente.\n",
    "```\n",
    "{'Área Norte': [2819, 7236],\n",
    " 'Área Leste': [1440, 9492],\n",
    " 'Área Sul': [5969, 7496],\n",
    " 'Área Oeste': [14446, 49688],\n",
    " 'Área Centro': [22558, 45148]}\n",
    "```\n",
    "Escreva um código para calcular a média de espécies por área e identificar a área com a maior diversidade biológica. Dica: use as funções built-in [`sum()`](https://docs.python.org/3/library/functions.html#sum) e [`len()`](https://docs.python.org/3/library/functions.html#len).\n"
   ]
  },
  {
   "cell_type": "code",
   "execution_count": 94,
   "metadata": {},
   "outputs": [
    {
     "name": "stdout",
     "output_type": "stream",
     "text": [
      "Dados da Pesquisa\n",
      "A média de espécies na Área Norte é de 5028\n",
      "A média de espécies na Área Leste é de 5466\n",
      "A média de espécies na Área Sul é de 6732\n",
      "A média de espécies na Área Oeste é de 32067\n",
      "A média de espécies na Área Centro é de 33853\n",
      "\n",
      "A média geral de espécies é de 16629.2\n",
      "A Área Centro tem a maior diversidade biológica, com 67706 de espécies de animais e plantas\n",
      "Ao todo, foram registrados 47232 espécies de animais e 119060 de plantas\n"
     ]
    }
   ],
   "source": [
    "info = {'Área Norte': [2819, 7236],\n",
    " 'Área Leste': [1440, 9492],\n",
    " 'Área Sul': [5969, 7496],\n",
    " 'Área Oeste': [14446, 49688],\n",
    " 'Área Centro': [22558, 45148]}\n",
    "\n",
    "maior_area = 'Área'\n",
    "maior_qtd = 0\n",
    "media_geral = 0\n",
    "\n",
    "animais_qtd = 0\n",
    "plantas_qtd = 0\n",
    "\n",
    "media_geral\n",
    "\n",
    "print('Dados da Pesquisa')\n",
    "\n",
    "for area,especies in info.items():\n",
    "    media = sum(especies)/len(especies)\n",
    "\n",
    "    media_geral +=media\n",
    "\n",
    "    print(f'A média de espécies na {area} é de {media:.0f}')\n",
    "\n",
    "    if sum(especies) > maior_qtd:\n",
    "        maior_area = area\n",
    "        maior_qtd = sum(especies)\n",
    "\n",
    "    animais_qtd += especies[0]\n",
    "    plantas_qtd += especies[1]\n",
    "\n",
    "media_geral = media_geral/len(info)\n",
    "\n",
    "print(f'\\nA média geral de espécies é de {media_geral}')\n",
    "print(f'A {area} tem a maior diversidade biológica, com {maior_qtd} de espécies de animais e plantas')\n",
    "print(f'Ao todo, foram registrados {animais_qtd} espécies de animais e {plantas_qtd} de plantas')"
   ]
  },
  {
   "cell_type": "markdown",
   "metadata": {
    "id": "r0RW2Sy_MlWy"
   },
   "source": [
    "#### Questão 15\n",
    "O setor de RH da sua empresa te pediu uma ajuda para analisar as idades dos funcionários de 4 setores da empresa. Para isso, ele te forneceu os seguintes dados:\n",
    "```\n",
    "{'Setor A': [22, 26, 30, 30, 35, 38, 40, 56, 57, 65],\n",
    " 'Setor B': [22, 24, 26, 33, 41, 49, 50, 54, 60, 64],\n",
    " 'Setor C': [23, 26, 26, 29, 34, 35, 36, 41, 52, 56],\n",
    " 'Setor D': [19, 20, 25, 27, 34, 39, 42, 44, 50, 65]}\n",
    "``` \n",
    "Sabendo que cada setor tem 10 funcionários, construa um código que calcule a média de idade de cada setor, a idade média geral entre todos os setores e quantas pessoas estão acima da idade média geral.\n"
   ]
  },
  {
   "cell_type": "code",
   "execution_count": 98,
   "metadata": {},
   "outputs": [
    {
     "name": "stdout",
     "output_type": "stream",
     "text": [
      "O Setor A tem a média de 39.9\n",
      "O Setor B tem a média de 42.3\n",
      "O Setor C tem a média de 35.8\n",
      "O Setor D tem a média de 36.5\n",
      "A média de idade geral é 38.625\n",
      "18 pessoas estão acima da idade média geral\n"
     ]
    }
   ],
   "source": [
    "# Especificamos os dados para um dicionário\n",
    "dados = {'Setor A': [22, 26, 30, 30, 35, 38, 40, 56, 57, 65],\n",
    "        'Setor B': [22, 24, 26, 33, 41, 49, 50, 54, 60, 64],\n",
    "        'Setor C': [23, 26, 26, 29, 34, 35, 36, 41, 52, 56],\n",
    "        'Setor D': [19, 20, 25, 27, 34, 39, 42, 44, 50, 65]}\n",
    "# Inicializamos a variável que irá somar todas as idades\n",
    "total_idades = 0\n",
    "# Percorremos os valores de chaves e elementos do dicionário\n",
    "for setor, idades in dados.items():\n",
    "  # Calculamos a média dividindo a soma das idades pela quantidade funcionários em cada setor\n",
    "  media_idade = sum(idades) / len(idades)\n",
    "  # Imprimimos\n",
    "  print(f'O {setor} tem a média de {media_idade}')\n",
    "  # Somamos as médias\n",
    "  total_idades += sum(idades)\n",
    "# A média total será dada pela total_idades dividida pela quantidade de pessoas totais (setores * funcionários por setor)\n",
    "media_total = total_idades / (len(idades) * len(dados))\n",
    "print(f'A média de idade geral é {media_total}')\n",
    "\n",
    "# Inicializamos a variável que irá contar todas pessoas com idade acima da média\n",
    "acima_media = 0\n",
    "# Percorremos novamente os valores de chaves e elementos do dicionário\n",
    "for setor, idades in dados.items():\n",
    "  # Lemos os elementos (idades) dentro de cada lista de idades no dicionário\n",
    "  for id in idades:\n",
    "    # Verificamos se o valor da idade é superior à média total\n",
    "    if id > media_total:\n",
    "      # Caso o valor da idade seja superior à média, incrementamos mais um no contador\n",
    "      acima_media += 1\n",
    "# Resultado\n",
    "print(f'{acima_media} pessoas estão acima da idade média geral')"
   ]
  },
  {
   "cell_type": "code",
   "execution_count": 97,
   "metadata": {
    "id": "wCiwyKP3MmTz"
   },
   "outputs": [
    {
     "name": "stdout",
     "output_type": "stream",
     "text": [
      "A média de idade do Setor A é de 39.9 anos\n",
      "A média de idade do Setor B é de 42.3 anos\n",
      "A média de idade do Setor C é de 35.8 anos\n",
      "A média de idade do Setor D é de 36.5 anos\n",
      "\n",
      "A média geral de idade entre todos os setores é de 38.6\n",
      "Existem 18 funcionários acima da média de idade\n",
      "O setor com a maior média de idade é o Setor B, já com a menor é o Setor C\n"
     ]
    }
   ],
   "source": [
    "dados = {'Setor A': [22, 26, 30, 30, 35, 38, 40, 56, 57, 65],\n",
    " 'Setor B': [22, 24, 26, 33, 41, 49, 50, 54, 60, 64],\n",
    " 'Setor C': [23, 26, 26, 29, 34, 35, 36, 41, 52, 56],\n",
    " 'Setor D': [19, 20, 25, 27, 34, 39, 42, 44, 50, 65]}\n",
    "\n",
    "media_geral = 0\n",
    "media_mais_velhos = 0\n",
    "setor_mais_velhos = 0\n",
    "media_mais_novos = 100\n",
    "setor_mais_novos = 0\n",
    "acima_media = 0\n",
    "\n",
    "for setor, idades in dados.items():\n",
    "    media = sum(idades)/len(idades)\n",
    "    media_geral += media\n",
    "\n",
    "    if media > media_mais_velhos:\n",
    "        media_mais_velhos = media\n",
    "        setor_mais_velhos = setor\n",
    "    if media < media_mais_novos:\n",
    "        media_mais_novos = media\n",
    "        setor_mais_novos = setor\n",
    "    \n",
    "    print(f'A média de idade do {setor} é de {media} anos')\n",
    "\n",
    "media_geral = media_geral/len(dados)\n",
    "\n",
    "for setor, idades in dados.items():\n",
    "    for idade in idades:\n",
    "        if idade > media_geral:\n",
    "            acima_media += 1\n",
    "\n",
    "print(f'\\nA média geral de idade entre todos os setores é de {media_geral:0.1f}')\n",
    "print(f'Existem {acima_media} funcionários acima da média de idade')\n",
    "print(f'O setor com a maior média de idade é o {setor_mais_velhos}, já com a menor é o {setor_mais_novos}')\n",
    "\n",
    "    "
   ]
  }
 ],
 "metadata": {
  "colab": {
   "authorship_tag": "ABX9TyNAcHMa4C+Q6J7M1CkYm1Tn",
   "provenance": [],
   "toc_visible": true
  },
  "kernelspec": {
   "display_name": ".venv",
   "language": "python",
   "name": "python3"
  },
  "language_info": {
   "codemirror_mode": {
    "name": "ipython",
    "version": 3
   },
   "file_extension": ".py",
   "mimetype": "text/x-python",
   "name": "python",
   "nbconvert_exporter": "python",
   "pygments_lexer": "ipython3",
   "version": "3.10.12"
  }
 },
 "nbformat": 4,
 "nbformat_minor": 0
}
